{
  "nbformat": 4,
  "nbformat_minor": 0,
  "metadata": {
    "colab": {
      "name": "liver.ipynb",
      "provenance": [],
      "collapsed_sections": []
    },
    "kernelspec": {
      "name": "python3",
      "display_name": "Python 3"
    },
    "language_info": {
      "name": "python"
    }
  },
  "cells": [
    {
      "cell_type": "code",
      "execution_count": 2,
      "metadata": {
        "colab": {
          "base_uri": "https://localhost:8080/"
        },
        "id": "UFFuuvOybuaZ",
        "outputId": "6d81d6cd-1d24-4925-8ac6-1581e31cf502"
      },
      "outputs": [
        {
          "output_type": "stream",
          "name": "stdout",
          "text": [
            "Drive already mounted at /content/drive; to attempt to forcibly remount, call drive.mount(\"/content/drive\", force_remount=True).\n"
          ]
        }
      ],
      "source": [
        "from google.colab import drive\n",
        "\n",
        "drive.mount('/content/drive')\n"
      ]
    },
    {
      "cell_type": "code",
      "source": [
        "pip install scikit-plot"
      ],
      "metadata": {
        "colab": {
          "base_uri": "https://localhost:8080/"
        },
        "id": "cJRfQeV4chc4",
        "outputId": "0addcace-db86-4e16-9030-0d8dee88aaa1"
      },
      "execution_count": 3,
      "outputs": [
        {
          "output_type": "stream",
          "name": "stdout",
          "text": [
            "Requirement already satisfied: scikit-plot in /usr/local/lib/python3.7/dist-packages (0.3.7)\n",
            "Requirement already satisfied: joblib>=0.10 in /usr/local/lib/python3.7/dist-packages (from scikit-plot) (1.1.0)\n",
            "Requirement already satisfied: matplotlib>=1.4.0 in /usr/local/lib/python3.7/dist-packages (from scikit-plot) (3.2.2)\n",
            "Requirement already satisfied: scipy>=0.9 in /usr/local/lib/python3.7/dist-packages (from scikit-plot) (1.4.1)\n",
            "Requirement already satisfied: scikit-learn>=0.18 in /usr/local/lib/python3.7/dist-packages (from scikit-plot) (1.0.2)\n",
            "Requirement already satisfied: cycler>=0.10 in /usr/local/lib/python3.7/dist-packages (from matplotlib>=1.4.0->scikit-plot) (0.11.0)\n",
            "Requirement already satisfied: numpy>=1.11 in /usr/local/lib/python3.7/dist-packages (from matplotlib>=1.4.0->scikit-plot) (1.19.5)\n",
            "Requirement already satisfied: python-dateutil>=2.1 in /usr/local/lib/python3.7/dist-packages (from matplotlib>=1.4.0->scikit-plot) (2.8.2)\n",
            "Requirement already satisfied: pyparsing!=2.0.4,!=2.1.2,!=2.1.6,>=2.0.1 in /usr/local/lib/python3.7/dist-packages (from matplotlib>=1.4.0->scikit-plot) (3.0.7)\n",
            "Requirement already satisfied: kiwisolver>=1.0.1 in /usr/local/lib/python3.7/dist-packages (from matplotlib>=1.4.0->scikit-plot) (1.3.2)\n",
            "Requirement already satisfied: six>=1.5 in /usr/local/lib/python3.7/dist-packages (from python-dateutil>=2.1->matplotlib>=1.4.0->scikit-plot) (1.15.0)\n",
            "Requirement already satisfied: threadpoolctl>=2.0.0 in /usr/local/lib/python3.7/dist-packages (from scikit-learn>=0.18->scikit-plot) (3.1.0)\n"
          ]
        }
      ]
    },
    {
      "cell_type": "code",
      "source": [
        "import numpy as np\n",
        "import pandas as pd\n",
        "from keras.models import Sequential\n",
        "from keras.layers import Dense\n",
        "from keras.wrappers.scikit_learn import KerasRegressor\n",
        "from sklearn.model_selection import cross_val_score\n",
        "from sklearn.model_selection import KFold\n",
        "from sklearn.preprocessing import StandardScaler\n",
        "from sklearn.model_selection import train_test_split\n",
        "from sklearn.metrics import classification_report\n",
        "import scikitplot as skplt\n",
        "from keras.layers.convolutional import Convolution2D\n",
        "import matplotlib.pyplot as plt\n",
        "\n",
        "import seaborn as sns"
      ],
      "metadata": {
        "id": "d4sqjU-Qb-9e"
      },
      "execution_count": 4,
      "outputs": []
    },
    {
      "cell_type": "code",
      "source": [
        "\n",
        "df = pd.read_csv('/content/drive/MyDrive/liver/archive (4).zip (Unzipped Files)/Liver Patient Dataset (LPD)_train.csv', encoding= 'unicode_escape')\n",
        "df.head(5)"
      ],
      "metadata": {
        "colab": {
          "base_uri": "https://localhost:8080/",
          "height": 302
        },
        "id": "WmxO3hZPcRCE",
        "outputId": "162ec889-8f96-4f38-960e-89ea3477a507"
      },
      "execution_count": 5,
      "outputs": [
        {
          "output_type": "execute_result",
          "data": {
            "text/html": [
              "\n",
              "  <div id=\"df-6139c6ad-f80c-422a-be6a-6589b08103ab\">\n",
              "    <div class=\"colab-df-container\">\n",
              "      <div>\n",
              "<style scoped>\n",
              "    .dataframe tbody tr th:only-of-type {\n",
              "        vertical-align: middle;\n",
              "    }\n",
              "\n",
              "    .dataframe tbody tr th {\n",
              "        vertical-align: top;\n",
              "    }\n",
              "\n",
              "    .dataframe thead th {\n",
              "        text-align: right;\n",
              "    }\n",
              "</style>\n",
              "<table border=\"1\" class=\"dataframe\">\n",
              "  <thead>\n",
              "    <tr style=\"text-align: right;\">\n",
              "      <th></th>\n",
              "      <th>Age of the patient</th>\n",
              "      <th>Gender of the patient</th>\n",
              "      <th>Total Bilirubin</th>\n",
              "      <th>Direct Bilirubin</th>\n",
              "      <th>Alkphos Alkaline Phosphotase</th>\n",
              "      <th>Sgpt Alamine Aminotransferase</th>\n",
              "      <th>Sgot Aspartate Aminotransferase</th>\n",
              "      <th>Total Protiens</th>\n",
              "      <th>ALB Albumin</th>\n",
              "      <th>A/G Ratio Albumin and Globulin Ratio</th>\n",
              "      <th>Result</th>\n",
              "    </tr>\n",
              "  </thead>\n",
              "  <tbody>\n",
              "    <tr>\n",
              "      <th>0</th>\n",
              "      <td>65.0</td>\n",
              "      <td>Female</td>\n",
              "      <td>0.7</td>\n",
              "      <td>0.1</td>\n",
              "      <td>187.0</td>\n",
              "      <td>16.0</td>\n",
              "      <td>18.0</td>\n",
              "      <td>6.8</td>\n",
              "      <td>3.3</td>\n",
              "      <td>0.90</td>\n",
              "      <td>1</td>\n",
              "    </tr>\n",
              "    <tr>\n",
              "      <th>1</th>\n",
              "      <td>62.0</td>\n",
              "      <td>Male</td>\n",
              "      <td>10.9</td>\n",
              "      <td>5.5</td>\n",
              "      <td>699.0</td>\n",
              "      <td>64.0</td>\n",
              "      <td>100.0</td>\n",
              "      <td>7.5</td>\n",
              "      <td>3.2</td>\n",
              "      <td>0.74</td>\n",
              "      <td>1</td>\n",
              "    </tr>\n",
              "    <tr>\n",
              "      <th>2</th>\n",
              "      <td>62.0</td>\n",
              "      <td>Male</td>\n",
              "      <td>7.3</td>\n",
              "      <td>4.1</td>\n",
              "      <td>490.0</td>\n",
              "      <td>60.0</td>\n",
              "      <td>68.0</td>\n",
              "      <td>7.0</td>\n",
              "      <td>3.3</td>\n",
              "      <td>0.89</td>\n",
              "      <td>1</td>\n",
              "    </tr>\n",
              "    <tr>\n",
              "      <th>3</th>\n",
              "      <td>58.0</td>\n",
              "      <td>Male</td>\n",
              "      <td>1.0</td>\n",
              "      <td>0.4</td>\n",
              "      <td>182.0</td>\n",
              "      <td>14.0</td>\n",
              "      <td>20.0</td>\n",
              "      <td>6.8</td>\n",
              "      <td>3.4</td>\n",
              "      <td>1.00</td>\n",
              "      <td>1</td>\n",
              "    </tr>\n",
              "    <tr>\n",
              "      <th>4</th>\n",
              "      <td>72.0</td>\n",
              "      <td>Male</td>\n",
              "      <td>3.9</td>\n",
              "      <td>2.0</td>\n",
              "      <td>195.0</td>\n",
              "      <td>27.0</td>\n",
              "      <td>59.0</td>\n",
              "      <td>7.3</td>\n",
              "      <td>2.4</td>\n",
              "      <td>0.40</td>\n",
              "      <td>1</td>\n",
              "    </tr>\n",
              "  </tbody>\n",
              "</table>\n",
              "</div>\n",
              "      <button class=\"colab-df-convert\" onclick=\"convertToInteractive('df-6139c6ad-f80c-422a-be6a-6589b08103ab')\"\n",
              "              title=\"Convert this dataframe to an interactive table.\"\n",
              "              style=\"display:none;\">\n",
              "        \n",
              "  <svg xmlns=\"http://www.w3.org/2000/svg\" height=\"24px\"viewBox=\"0 0 24 24\"\n",
              "       width=\"24px\">\n",
              "    <path d=\"M0 0h24v24H0V0z\" fill=\"none\"/>\n",
              "    <path d=\"M18.56 5.44l.94 2.06.94-2.06 2.06-.94-2.06-.94-.94-2.06-.94 2.06-2.06.94zm-11 1L8.5 8.5l.94-2.06 2.06-.94-2.06-.94L8.5 2.5l-.94 2.06-2.06.94zm10 10l.94 2.06.94-2.06 2.06-.94-2.06-.94-.94-2.06-.94 2.06-2.06.94z\"/><path d=\"M17.41 7.96l-1.37-1.37c-.4-.4-.92-.59-1.43-.59-.52 0-1.04.2-1.43.59L10.3 9.45l-7.72 7.72c-.78.78-.78 2.05 0 2.83L4 21.41c.39.39.9.59 1.41.59.51 0 1.02-.2 1.41-.59l7.78-7.78 2.81-2.81c.8-.78.8-2.07 0-2.86zM5.41 20L4 18.59l7.72-7.72 1.47 1.35L5.41 20z\"/>\n",
              "  </svg>\n",
              "      </button>\n",
              "      \n",
              "  <style>\n",
              "    .colab-df-container {\n",
              "      display:flex;\n",
              "      flex-wrap:wrap;\n",
              "      gap: 12px;\n",
              "    }\n",
              "\n",
              "    .colab-df-convert {\n",
              "      background-color: #E8F0FE;\n",
              "      border: none;\n",
              "      border-radius: 50%;\n",
              "      cursor: pointer;\n",
              "      display: none;\n",
              "      fill: #1967D2;\n",
              "      height: 32px;\n",
              "      padding: 0 0 0 0;\n",
              "      width: 32px;\n",
              "    }\n",
              "\n",
              "    .colab-df-convert:hover {\n",
              "      background-color: #E2EBFA;\n",
              "      box-shadow: 0px 1px 2px rgba(60, 64, 67, 0.3), 0px 1px 3px 1px rgba(60, 64, 67, 0.15);\n",
              "      fill: #174EA6;\n",
              "    }\n",
              "\n",
              "    [theme=dark] .colab-df-convert {\n",
              "      background-color: #3B4455;\n",
              "      fill: #D2E3FC;\n",
              "    }\n",
              "\n",
              "    [theme=dark] .colab-df-convert:hover {\n",
              "      background-color: #434B5C;\n",
              "      box-shadow: 0px 1px 3px 1px rgba(0, 0, 0, 0.15);\n",
              "      filter: drop-shadow(0px 1px 2px rgba(0, 0, 0, 0.3));\n",
              "      fill: #FFFFFF;\n",
              "    }\n",
              "  </style>\n",
              "\n",
              "      <script>\n",
              "        const buttonEl =\n",
              "          document.querySelector('#df-6139c6ad-f80c-422a-be6a-6589b08103ab button.colab-df-convert');\n",
              "        buttonEl.style.display =\n",
              "          google.colab.kernel.accessAllowed ? 'block' : 'none';\n",
              "\n",
              "        async function convertToInteractive(key) {\n",
              "          const element = document.querySelector('#df-6139c6ad-f80c-422a-be6a-6589b08103ab');\n",
              "          const dataTable =\n",
              "            await google.colab.kernel.invokeFunction('convertToInteractive',\n",
              "                                                     [key], {});\n",
              "          if (!dataTable) return;\n",
              "\n",
              "          const docLinkHtml = 'Like what you see? Visit the ' +\n",
              "            '<a target=\"_blank\" href=https://colab.research.google.com/notebooks/data_table.ipynb>data table notebook</a>'\n",
              "            + ' to learn more about interactive tables.';\n",
              "          element.innerHTML = '';\n",
              "          dataTable['output_type'] = 'display_data';\n",
              "          await google.colab.output.renderOutput(dataTable, element);\n",
              "          const docLink = document.createElement('div');\n",
              "          docLink.innerHTML = docLinkHtml;\n",
              "          element.appendChild(docLink);\n",
              "        }\n",
              "      </script>\n",
              "    </div>\n",
              "  </div>\n",
              "  "
            ],
            "text/plain": [
              "   Age of the patient  ... Result\n",
              "0                65.0  ...      1\n",
              "1                62.0  ...      1\n",
              "2                62.0  ...      1\n",
              "3                58.0  ...      1\n",
              "4                72.0  ...      1\n",
              "\n",
              "[5 rows x 11 columns]"
            ]
          },
          "metadata": {},
          "execution_count": 5
        }
      ]
    },
    {
      "cell_type": "code",
      "source": [
        "df.info()"
      ],
      "metadata": {
        "colab": {
          "base_uri": "https://localhost:8080/"
        },
        "id": "gOh6_JQldIie",
        "outputId": "d717ea4e-42cc-4503-cddb-13f76de8aa1c"
      },
      "execution_count": 6,
      "outputs": [
        {
          "output_type": "stream",
          "name": "stdout",
          "text": [
            "<class 'pandas.core.frame.DataFrame'>\n",
            "RangeIndex: 30691 entries, 0 to 30690\n",
            "Data columns (total 11 columns):\n",
            " #   Column                                Non-Null Count  Dtype  \n",
            "---  ------                                --------------  -----  \n",
            " 0   Age of the patient                    30689 non-null  float64\n",
            " 1   Gender of the patient                 29789 non-null  object \n",
            " 2   Total Bilirubin                       30043 non-null  float64\n",
            " 3   Direct Bilirubin                      30130 non-null  float64\n",
            " 4    Alkphos Alkaline Phosphotase         29895 non-null  float64\n",
            " 5    Sgpt Alamine Aminotransferase        30153 non-null  float64\n",
            " 6   Sgot Aspartate Aminotransferase       30229 non-null  float64\n",
            " 7   Total Protiens                        30228 non-null  float64\n",
            " 8    ALB Albumin                          30197 non-null  float64\n",
            " 9   A/G Ratio Albumin and Globulin Ratio  30132 non-null  float64\n",
            " 10  Result                                30691 non-null  int64  \n",
            "dtypes: float64(9), int64(1), object(1)\n",
            "memory usage: 2.6+ MB\n"
          ]
        }
      ]
    },
    {
      "cell_type": "code",
      "source": [
        "df.describe()"
      ],
      "metadata": {
        "colab": {
          "base_uri": "https://localhost:8080/",
          "height": 416
        },
        "id": "fz8pg352ffH1",
        "outputId": "2b2b127a-ea0d-4f7f-c918-4f536bbb3b86"
      },
      "execution_count": 7,
      "outputs": [
        {
          "output_type": "execute_result",
          "data": {
            "text/html": [
              "\n",
              "  <div id=\"df-c47998b1-fb6c-4d24-9c89-0e09c8e8dac1\">\n",
              "    <div class=\"colab-df-container\">\n",
              "      <div>\n",
              "<style scoped>\n",
              "    .dataframe tbody tr th:only-of-type {\n",
              "        vertical-align: middle;\n",
              "    }\n",
              "\n",
              "    .dataframe tbody tr th {\n",
              "        vertical-align: top;\n",
              "    }\n",
              "\n",
              "    .dataframe thead th {\n",
              "        text-align: right;\n",
              "    }\n",
              "</style>\n",
              "<table border=\"1\" class=\"dataframe\">\n",
              "  <thead>\n",
              "    <tr style=\"text-align: right;\">\n",
              "      <th></th>\n",
              "      <th>Age of the patient</th>\n",
              "      <th>Total Bilirubin</th>\n",
              "      <th>Direct Bilirubin</th>\n",
              "      <th>Alkphos Alkaline Phosphotase</th>\n",
              "      <th>Sgpt Alamine Aminotransferase</th>\n",
              "      <th>Sgot Aspartate Aminotransferase</th>\n",
              "      <th>Total Protiens</th>\n",
              "      <th>ALB Albumin</th>\n",
              "      <th>A/G Ratio Albumin and Globulin Ratio</th>\n",
              "      <th>Result</th>\n",
              "    </tr>\n",
              "  </thead>\n",
              "  <tbody>\n",
              "    <tr>\n",
              "      <th>count</th>\n",
              "      <td>30689.000000</td>\n",
              "      <td>30043.000000</td>\n",
              "      <td>30130.000000</td>\n",
              "      <td>29895.000000</td>\n",
              "      <td>30153.000000</td>\n",
              "      <td>30229.000000</td>\n",
              "      <td>30228.000000</td>\n",
              "      <td>30197.000000</td>\n",
              "      <td>30132.000000</td>\n",
              "      <td>30691.000000</td>\n",
              "    </tr>\n",
              "    <tr>\n",
              "      <th>mean</th>\n",
              "      <td>44.107205</td>\n",
              "      <td>3.370319</td>\n",
              "      <td>1.528042</td>\n",
              "      <td>289.075364</td>\n",
              "      <td>81.488641</td>\n",
              "      <td>111.469979</td>\n",
              "      <td>6.480237</td>\n",
              "      <td>3.130142</td>\n",
              "      <td>0.943467</td>\n",
              "      <td>1.285882</td>\n",
              "    </tr>\n",
              "    <tr>\n",
              "      <th>std</th>\n",
              "      <td>15.981043</td>\n",
              "      <td>6.255522</td>\n",
              "      <td>2.869592</td>\n",
              "      <td>238.537589</td>\n",
              "      <td>182.158850</td>\n",
              "      <td>280.851078</td>\n",
              "      <td>1.081980</td>\n",
              "      <td>0.792281</td>\n",
              "      <td>0.323164</td>\n",
              "      <td>0.451841</td>\n",
              "    </tr>\n",
              "    <tr>\n",
              "      <th>min</th>\n",
              "      <td>4.000000</td>\n",
              "      <td>0.400000</td>\n",
              "      <td>0.100000</td>\n",
              "      <td>63.000000</td>\n",
              "      <td>10.000000</td>\n",
              "      <td>10.000000</td>\n",
              "      <td>2.700000</td>\n",
              "      <td>0.900000</td>\n",
              "      <td>0.300000</td>\n",
              "      <td>1.000000</td>\n",
              "    </tr>\n",
              "    <tr>\n",
              "      <th>25%</th>\n",
              "      <td>32.000000</td>\n",
              "      <td>0.800000</td>\n",
              "      <td>0.200000</td>\n",
              "      <td>175.000000</td>\n",
              "      <td>23.000000</td>\n",
              "      <td>26.000000</td>\n",
              "      <td>5.800000</td>\n",
              "      <td>2.600000</td>\n",
              "      <td>0.700000</td>\n",
              "      <td>1.000000</td>\n",
              "    </tr>\n",
              "    <tr>\n",
              "      <th>50%</th>\n",
              "      <td>45.000000</td>\n",
              "      <td>1.000000</td>\n",
              "      <td>0.300000</td>\n",
              "      <td>209.000000</td>\n",
              "      <td>35.000000</td>\n",
              "      <td>42.000000</td>\n",
              "      <td>6.600000</td>\n",
              "      <td>3.100000</td>\n",
              "      <td>0.900000</td>\n",
              "      <td>1.000000</td>\n",
              "    </tr>\n",
              "    <tr>\n",
              "      <th>75%</th>\n",
              "      <td>55.000000</td>\n",
              "      <td>2.700000</td>\n",
              "      <td>1.300000</td>\n",
              "      <td>298.000000</td>\n",
              "      <td>62.000000</td>\n",
              "      <td>88.000000</td>\n",
              "      <td>7.200000</td>\n",
              "      <td>3.800000</td>\n",
              "      <td>1.100000</td>\n",
              "      <td>2.000000</td>\n",
              "    </tr>\n",
              "    <tr>\n",
              "      <th>max</th>\n",
              "      <td>90.000000</td>\n",
              "      <td>75.000000</td>\n",
              "      <td>19.700000</td>\n",
              "      <td>2110.000000</td>\n",
              "      <td>2000.000000</td>\n",
              "      <td>4929.000000</td>\n",
              "      <td>9.600000</td>\n",
              "      <td>5.500000</td>\n",
              "      <td>2.800000</td>\n",
              "      <td>2.000000</td>\n",
              "    </tr>\n",
              "  </tbody>\n",
              "</table>\n",
              "</div>\n",
              "      <button class=\"colab-df-convert\" onclick=\"convertToInteractive('df-c47998b1-fb6c-4d24-9c89-0e09c8e8dac1')\"\n",
              "              title=\"Convert this dataframe to an interactive table.\"\n",
              "              style=\"display:none;\">\n",
              "        \n",
              "  <svg xmlns=\"http://www.w3.org/2000/svg\" height=\"24px\"viewBox=\"0 0 24 24\"\n",
              "       width=\"24px\">\n",
              "    <path d=\"M0 0h24v24H0V0z\" fill=\"none\"/>\n",
              "    <path d=\"M18.56 5.44l.94 2.06.94-2.06 2.06-.94-2.06-.94-.94-2.06-.94 2.06-2.06.94zm-11 1L8.5 8.5l.94-2.06 2.06-.94-2.06-.94L8.5 2.5l-.94 2.06-2.06.94zm10 10l.94 2.06.94-2.06 2.06-.94-2.06-.94-.94-2.06-.94 2.06-2.06.94z\"/><path d=\"M17.41 7.96l-1.37-1.37c-.4-.4-.92-.59-1.43-.59-.52 0-1.04.2-1.43.59L10.3 9.45l-7.72 7.72c-.78.78-.78 2.05 0 2.83L4 21.41c.39.39.9.59 1.41.59.51 0 1.02-.2 1.41-.59l7.78-7.78 2.81-2.81c.8-.78.8-2.07 0-2.86zM5.41 20L4 18.59l7.72-7.72 1.47 1.35L5.41 20z\"/>\n",
              "  </svg>\n",
              "      </button>\n",
              "      \n",
              "  <style>\n",
              "    .colab-df-container {\n",
              "      display:flex;\n",
              "      flex-wrap:wrap;\n",
              "      gap: 12px;\n",
              "    }\n",
              "\n",
              "    .colab-df-convert {\n",
              "      background-color: #E8F0FE;\n",
              "      border: none;\n",
              "      border-radius: 50%;\n",
              "      cursor: pointer;\n",
              "      display: none;\n",
              "      fill: #1967D2;\n",
              "      height: 32px;\n",
              "      padding: 0 0 0 0;\n",
              "      width: 32px;\n",
              "    }\n",
              "\n",
              "    .colab-df-convert:hover {\n",
              "      background-color: #E2EBFA;\n",
              "      box-shadow: 0px 1px 2px rgba(60, 64, 67, 0.3), 0px 1px 3px 1px rgba(60, 64, 67, 0.15);\n",
              "      fill: #174EA6;\n",
              "    }\n",
              "\n",
              "    [theme=dark] .colab-df-convert {\n",
              "      background-color: #3B4455;\n",
              "      fill: #D2E3FC;\n",
              "    }\n",
              "\n",
              "    [theme=dark] .colab-df-convert:hover {\n",
              "      background-color: #434B5C;\n",
              "      box-shadow: 0px 1px 3px 1px rgba(0, 0, 0, 0.15);\n",
              "      filter: drop-shadow(0px 1px 2px rgba(0, 0, 0, 0.3));\n",
              "      fill: #FFFFFF;\n",
              "    }\n",
              "  </style>\n",
              "\n",
              "      <script>\n",
              "        const buttonEl =\n",
              "          document.querySelector('#df-c47998b1-fb6c-4d24-9c89-0e09c8e8dac1 button.colab-df-convert');\n",
              "        buttonEl.style.display =\n",
              "          google.colab.kernel.accessAllowed ? 'block' : 'none';\n",
              "\n",
              "        async function convertToInteractive(key) {\n",
              "          const element = document.querySelector('#df-c47998b1-fb6c-4d24-9c89-0e09c8e8dac1');\n",
              "          const dataTable =\n",
              "            await google.colab.kernel.invokeFunction('convertToInteractive',\n",
              "                                                     [key], {});\n",
              "          if (!dataTable) return;\n",
              "\n",
              "          const docLinkHtml = 'Like what you see? Visit the ' +\n",
              "            '<a target=\"_blank\" href=https://colab.research.google.com/notebooks/data_table.ipynb>data table notebook</a>'\n",
              "            + ' to learn more about interactive tables.';\n",
              "          element.innerHTML = '';\n",
              "          dataTable['output_type'] = 'display_data';\n",
              "          await google.colab.output.renderOutput(dataTable, element);\n",
              "          const docLink = document.createElement('div');\n",
              "          docLink.innerHTML = docLinkHtml;\n",
              "          element.appendChild(docLink);\n",
              "        }\n",
              "      </script>\n",
              "    </div>\n",
              "  </div>\n",
              "  "
            ],
            "text/plain": [
              "       Age of the patient  ...        Result\n",
              "count        30689.000000  ...  30691.000000\n",
              "mean            44.107205  ...      1.285882\n",
              "std             15.981043  ...      0.451841\n",
              "min              4.000000  ...      1.000000\n",
              "25%             32.000000  ...      1.000000\n",
              "50%             45.000000  ...      1.000000\n",
              "75%             55.000000  ...      2.000000\n",
              "max             90.000000  ...      2.000000\n",
              "\n",
              "[8 rows x 10 columns]"
            ]
          },
          "metadata": {},
          "execution_count": 7
        }
      ]
    },
    {
      "cell_type": "code",
      "source": [
        "df.isnull()"
      ],
      "metadata": {
        "colab": {
          "base_uri": "https://localhost:8080/",
          "height": 520
        },
        "id": "tI_IkBZlf-5l",
        "outputId": "92102539-2993-4520-ae7b-bfecb06feb94"
      },
      "execution_count": 8,
      "outputs": [
        {
          "output_type": "execute_result",
          "data": {
            "text/html": [
              "\n",
              "  <div id=\"df-a9d3fdcc-cd37-4f54-a9c3-13cac30528ae\">\n",
              "    <div class=\"colab-df-container\">\n",
              "      <div>\n",
              "<style scoped>\n",
              "    .dataframe tbody tr th:only-of-type {\n",
              "        vertical-align: middle;\n",
              "    }\n",
              "\n",
              "    .dataframe tbody tr th {\n",
              "        vertical-align: top;\n",
              "    }\n",
              "\n",
              "    .dataframe thead th {\n",
              "        text-align: right;\n",
              "    }\n",
              "</style>\n",
              "<table border=\"1\" class=\"dataframe\">\n",
              "  <thead>\n",
              "    <tr style=\"text-align: right;\">\n",
              "      <th></th>\n",
              "      <th>Age of the patient</th>\n",
              "      <th>Gender of the patient</th>\n",
              "      <th>Total Bilirubin</th>\n",
              "      <th>Direct Bilirubin</th>\n",
              "      <th>Alkphos Alkaline Phosphotase</th>\n",
              "      <th>Sgpt Alamine Aminotransferase</th>\n",
              "      <th>Sgot Aspartate Aminotransferase</th>\n",
              "      <th>Total Protiens</th>\n",
              "      <th>ALB Albumin</th>\n",
              "      <th>A/G Ratio Albumin and Globulin Ratio</th>\n",
              "      <th>Result</th>\n",
              "    </tr>\n",
              "  </thead>\n",
              "  <tbody>\n",
              "    <tr>\n",
              "      <th>0</th>\n",
              "      <td>False</td>\n",
              "      <td>False</td>\n",
              "      <td>False</td>\n",
              "      <td>False</td>\n",
              "      <td>False</td>\n",
              "      <td>False</td>\n",
              "      <td>False</td>\n",
              "      <td>False</td>\n",
              "      <td>False</td>\n",
              "      <td>False</td>\n",
              "      <td>False</td>\n",
              "    </tr>\n",
              "    <tr>\n",
              "      <th>1</th>\n",
              "      <td>False</td>\n",
              "      <td>False</td>\n",
              "      <td>False</td>\n",
              "      <td>False</td>\n",
              "      <td>False</td>\n",
              "      <td>False</td>\n",
              "      <td>False</td>\n",
              "      <td>False</td>\n",
              "      <td>False</td>\n",
              "      <td>False</td>\n",
              "      <td>False</td>\n",
              "    </tr>\n",
              "    <tr>\n",
              "      <th>2</th>\n",
              "      <td>False</td>\n",
              "      <td>False</td>\n",
              "      <td>False</td>\n",
              "      <td>False</td>\n",
              "      <td>False</td>\n",
              "      <td>False</td>\n",
              "      <td>False</td>\n",
              "      <td>False</td>\n",
              "      <td>False</td>\n",
              "      <td>False</td>\n",
              "      <td>False</td>\n",
              "    </tr>\n",
              "    <tr>\n",
              "      <th>3</th>\n",
              "      <td>False</td>\n",
              "      <td>False</td>\n",
              "      <td>False</td>\n",
              "      <td>False</td>\n",
              "      <td>False</td>\n",
              "      <td>False</td>\n",
              "      <td>False</td>\n",
              "      <td>False</td>\n",
              "      <td>False</td>\n",
              "      <td>False</td>\n",
              "      <td>False</td>\n",
              "    </tr>\n",
              "    <tr>\n",
              "      <th>4</th>\n",
              "      <td>False</td>\n",
              "      <td>False</td>\n",
              "      <td>False</td>\n",
              "      <td>False</td>\n",
              "      <td>False</td>\n",
              "      <td>False</td>\n",
              "      <td>False</td>\n",
              "      <td>False</td>\n",
              "      <td>False</td>\n",
              "      <td>False</td>\n",
              "      <td>False</td>\n",
              "    </tr>\n",
              "    <tr>\n",
              "      <th>...</th>\n",
              "      <td>...</td>\n",
              "      <td>...</td>\n",
              "      <td>...</td>\n",
              "      <td>...</td>\n",
              "      <td>...</td>\n",
              "      <td>...</td>\n",
              "      <td>...</td>\n",
              "      <td>...</td>\n",
              "      <td>...</td>\n",
              "      <td>...</td>\n",
              "      <td>...</td>\n",
              "    </tr>\n",
              "    <tr>\n",
              "      <th>30686</th>\n",
              "      <td>False</td>\n",
              "      <td>False</td>\n",
              "      <td>False</td>\n",
              "      <td>False</td>\n",
              "      <td>False</td>\n",
              "      <td>False</td>\n",
              "      <td>False</td>\n",
              "      <td>False</td>\n",
              "      <td>False</td>\n",
              "      <td>False</td>\n",
              "      <td>False</td>\n",
              "    </tr>\n",
              "    <tr>\n",
              "      <th>30687</th>\n",
              "      <td>False</td>\n",
              "      <td>False</td>\n",
              "      <td>False</td>\n",
              "      <td>False</td>\n",
              "      <td>False</td>\n",
              "      <td>False</td>\n",
              "      <td>False</td>\n",
              "      <td>False</td>\n",
              "      <td>False</td>\n",
              "      <td>False</td>\n",
              "      <td>False</td>\n",
              "    </tr>\n",
              "    <tr>\n",
              "      <th>30688</th>\n",
              "      <td>False</td>\n",
              "      <td>False</td>\n",
              "      <td>False</td>\n",
              "      <td>False</td>\n",
              "      <td>False</td>\n",
              "      <td>False</td>\n",
              "      <td>False</td>\n",
              "      <td>False</td>\n",
              "      <td>False</td>\n",
              "      <td>False</td>\n",
              "      <td>False</td>\n",
              "    </tr>\n",
              "    <tr>\n",
              "      <th>30689</th>\n",
              "      <td>False</td>\n",
              "      <td>False</td>\n",
              "      <td>False</td>\n",
              "      <td>False</td>\n",
              "      <td>False</td>\n",
              "      <td>False</td>\n",
              "      <td>False</td>\n",
              "      <td>False</td>\n",
              "      <td>False</td>\n",
              "      <td>False</td>\n",
              "      <td>False</td>\n",
              "    </tr>\n",
              "    <tr>\n",
              "      <th>30690</th>\n",
              "      <td>False</td>\n",
              "      <td>False</td>\n",
              "      <td>False</td>\n",
              "      <td>False</td>\n",
              "      <td>False</td>\n",
              "      <td>False</td>\n",
              "      <td>False</td>\n",
              "      <td>False</td>\n",
              "      <td>False</td>\n",
              "      <td>False</td>\n",
              "      <td>False</td>\n",
              "    </tr>\n",
              "  </tbody>\n",
              "</table>\n",
              "<p>30691 rows × 11 columns</p>\n",
              "</div>\n",
              "      <button class=\"colab-df-convert\" onclick=\"convertToInteractive('df-a9d3fdcc-cd37-4f54-a9c3-13cac30528ae')\"\n",
              "              title=\"Convert this dataframe to an interactive table.\"\n",
              "              style=\"display:none;\">\n",
              "        \n",
              "  <svg xmlns=\"http://www.w3.org/2000/svg\" height=\"24px\"viewBox=\"0 0 24 24\"\n",
              "       width=\"24px\">\n",
              "    <path d=\"M0 0h24v24H0V0z\" fill=\"none\"/>\n",
              "    <path d=\"M18.56 5.44l.94 2.06.94-2.06 2.06-.94-2.06-.94-.94-2.06-.94 2.06-2.06.94zm-11 1L8.5 8.5l.94-2.06 2.06-.94-2.06-.94L8.5 2.5l-.94 2.06-2.06.94zm10 10l.94 2.06.94-2.06 2.06-.94-2.06-.94-.94-2.06-.94 2.06-2.06.94z\"/><path d=\"M17.41 7.96l-1.37-1.37c-.4-.4-.92-.59-1.43-.59-.52 0-1.04.2-1.43.59L10.3 9.45l-7.72 7.72c-.78.78-.78 2.05 0 2.83L4 21.41c.39.39.9.59 1.41.59.51 0 1.02-.2 1.41-.59l7.78-7.78 2.81-2.81c.8-.78.8-2.07 0-2.86zM5.41 20L4 18.59l7.72-7.72 1.47 1.35L5.41 20z\"/>\n",
              "  </svg>\n",
              "      </button>\n",
              "      \n",
              "  <style>\n",
              "    .colab-df-container {\n",
              "      display:flex;\n",
              "      flex-wrap:wrap;\n",
              "      gap: 12px;\n",
              "    }\n",
              "\n",
              "    .colab-df-convert {\n",
              "      background-color: #E8F0FE;\n",
              "      border: none;\n",
              "      border-radius: 50%;\n",
              "      cursor: pointer;\n",
              "      display: none;\n",
              "      fill: #1967D2;\n",
              "      height: 32px;\n",
              "      padding: 0 0 0 0;\n",
              "      width: 32px;\n",
              "    }\n",
              "\n",
              "    .colab-df-convert:hover {\n",
              "      background-color: #E2EBFA;\n",
              "      box-shadow: 0px 1px 2px rgba(60, 64, 67, 0.3), 0px 1px 3px 1px rgba(60, 64, 67, 0.15);\n",
              "      fill: #174EA6;\n",
              "    }\n",
              "\n",
              "    [theme=dark] .colab-df-convert {\n",
              "      background-color: #3B4455;\n",
              "      fill: #D2E3FC;\n",
              "    }\n",
              "\n",
              "    [theme=dark] .colab-df-convert:hover {\n",
              "      background-color: #434B5C;\n",
              "      box-shadow: 0px 1px 3px 1px rgba(0, 0, 0, 0.15);\n",
              "      filter: drop-shadow(0px 1px 2px rgba(0, 0, 0, 0.3));\n",
              "      fill: #FFFFFF;\n",
              "    }\n",
              "  </style>\n",
              "\n",
              "      <script>\n",
              "        const buttonEl =\n",
              "          document.querySelector('#df-a9d3fdcc-cd37-4f54-a9c3-13cac30528ae button.colab-df-convert');\n",
              "        buttonEl.style.display =\n",
              "          google.colab.kernel.accessAllowed ? 'block' : 'none';\n",
              "\n",
              "        async function convertToInteractive(key) {\n",
              "          const element = document.querySelector('#df-a9d3fdcc-cd37-4f54-a9c3-13cac30528ae');\n",
              "          const dataTable =\n",
              "            await google.colab.kernel.invokeFunction('convertToInteractive',\n",
              "                                                     [key], {});\n",
              "          if (!dataTable) return;\n",
              "\n",
              "          const docLinkHtml = 'Like what you see? Visit the ' +\n",
              "            '<a target=\"_blank\" href=https://colab.research.google.com/notebooks/data_table.ipynb>data table notebook</a>'\n",
              "            + ' to learn more about interactive tables.';\n",
              "          element.innerHTML = '';\n",
              "          dataTable['output_type'] = 'display_data';\n",
              "          await google.colab.output.renderOutput(dataTable, element);\n",
              "          const docLink = document.createElement('div');\n",
              "          docLink.innerHTML = docLinkHtml;\n",
              "          element.appendChild(docLink);\n",
              "        }\n",
              "      </script>\n",
              "    </div>\n",
              "  </div>\n",
              "  "
            ],
            "text/plain": [
              "       Age of the patient  ...  Result\n",
              "0                   False  ...   False\n",
              "1                   False  ...   False\n",
              "2                   False  ...   False\n",
              "3                   False  ...   False\n",
              "4                   False  ...   False\n",
              "...                   ...  ...     ...\n",
              "30686               False  ...   False\n",
              "30687               False  ...   False\n",
              "30688               False  ...   False\n",
              "30689               False  ...   False\n",
              "30690               False  ...   False\n",
              "\n",
              "[30691 rows x 11 columns]"
            ]
          },
          "metadata": {},
          "execution_count": 8
        }
      ]
    },
    {
      "cell_type": "code",
      "source": [
        "df.isnull().sum()"
      ],
      "metadata": {
        "colab": {
          "base_uri": "https://localhost:8080/"
        },
        "id": "ezBecxgsgDRG",
        "outputId": "7595ad8c-0752-46ef-af13-f39897e0de80"
      },
      "execution_count": 9,
      "outputs": [
        {
          "output_type": "execute_result",
          "data": {
            "text/plain": [
              "Age of the patient                        2\n",
              "Gender of the patient                   902\n",
              "Total Bilirubin                         648\n",
              "Direct Bilirubin                        561\n",
              " Alkphos Alkaline Phosphotase           796\n",
              " Sgpt Alamine Aminotransferase          538\n",
              "Sgot Aspartate Aminotransferase         462\n",
              "Total Protiens                          463\n",
              " ALB Albumin                            494\n",
              "A/G Ratio Albumin and Globulin Ratio    559\n",
              "Result                                    0\n",
              "dtype: int64"
            ]
          },
          "metadata": {},
          "execution_count": 9
        }
      ]
    },
    {
      "cell_type": "code",
      "source": [
        "# Plotting the Number of patients with liver disease vs Number of patients with no liver disease\n",
        "sns.countplot(data=df, x = 'Result', label='Count',palette= [\"#7fcdbb\",\"#bcbddc\"])\n",
        "\n",
        "LD, NLD = df['Result'].value_counts()\n",
        "print('Number of patients diagnosed with liver disease: ',LD)\n",
        "print('Number of patients not diagnosed with liver disease: ',NLD)"
      ],
      "metadata": {
        "colab": {
          "base_uri": "https://localhost:8080/",
          "height": 314
        },
        "id": "ArIusUpdgSK-",
        "outputId": "2648dd68-0b57-4b59-cd64-e562e7f07606"
      },
      "execution_count": 10,
      "outputs": [
        {
          "output_type": "stream",
          "name": "stdout",
          "text": [
            "Number of patients diagnosed with liver disease:  21917\n",
            "Number of patients not diagnosed with liver disease:  8774\n"
          ]
        },
        {
          "output_type": "display_data",
          "data": {
            "image/png": "[encoded data removed]",
            "text/plain": [
              "<Figure size 432x288 with 1 Axes>"
            ]
          },
          "metadata": {
            "needs_background": "light"
          }
        }
      ]
    },
    {
      "cell_type": "code",
      "source": [
        "sns.countplot(data=df, x = 'Gender of the patient', label='Count', palette= [\"#7fcdbb\", \"#fc9272\"])\n",
        "\n",
        "M, F = df['Gender of the patient'].value_counts()\n",
        "print('Number of patients that are male: ',M)\n",
        "print('Number of patients that are female: ',F)"
      ],
      "metadata": {
        "colab": {
          "base_uri": "https://localhost:8080/",
          "height": 314
        },
        "id": "EvqXJa1ohOt3",
        "outputId": "d7ced35f-4057-4107-83f7-6882a0e6d35b"
      },
      "execution_count": 11,
      "outputs": [
        {
          "output_type": "stream",
          "name": "stdout",
          "text": [
            "Number of patients that are male:  21986\n",
            "Number of patients that are female:  7803\n"
          ]
        },
        {
          "output_type": "display_data",
          "data": {
            "image/png": "[encoded data removed]",
            "text/plain": [
              "<Figure size 432x288 with 1 Axes>"
            ]
          },
          "metadata": {
            "needs_background": "light"
          }
        }
      ]
    },
    {
      "cell_type": "code",
      "source": [
        "#Mean Age of Patiens\n",
        "df[['Gender of the patient', 'Result','Age of the patient']].groupby(['Result','Gender of the patient'], as_index=False).mean().sort_values(by='Result', ascending=False)"
      ],
      "metadata": {
        "colab": {
          "base_uri": "https://localhost:8080/",
          "height": 174
        },
        "id": "Nme5HWwZh5q3",
        "outputId": "8e50e985-3780-4359-cca5-9c10da475a77"
      },
      "execution_count": 12,
      "outputs": [
        {
          "output_type": "execute_result",
          "data": {
            "text/html": [
              "\n",
              "  <div id=\"df-336e60a1-b15a-4c5f-8108-9d5782881b35\">\n",
              "    <div class=\"colab-df-container\">\n",
              "      <div>\n",
              "<style scoped>\n",
              "    .dataframe tbody tr th:only-of-type {\n",
              "        vertical-align: middle;\n",
              "    }\n",
              "\n",
              "    .dataframe tbody tr th {\n",
              "        vertical-align: top;\n",
              "    }\n",
              "\n",
              "    .dataframe thead th {\n",
              "        text-align: right;\n",
              "    }\n",
              "</style>\n",
              "<table border=\"1\" class=\"dataframe\">\n",
              "  <thead>\n",
              "    <tr style=\"text-align: right;\">\n",
              "      <th></th>\n",
              "      <th>Result</th>\n",
              "      <th>Gender of the patient</th>\n",
              "      <th>Age of the patient</th>\n",
              "    </tr>\n",
              "  </thead>\n",
              "  <tbody>\n",
              "    <tr>\n",
              "      <th>2</th>\n",
              "      <td>2</td>\n",
              "      <td>Female</td>\n",
              "      <td>43.068889</td>\n",
              "    </tr>\n",
              "    <tr>\n",
              "      <th>3</th>\n",
              "      <td>2</td>\n",
              "      <td>Male</td>\n",
              "      <td>44.309737</td>\n",
              "    </tr>\n",
              "    <tr>\n",
              "      <th>0</th>\n",
              "      <td>1</td>\n",
              "      <td>Female</td>\n",
              "      <td>43.291014</td>\n",
              "    </tr>\n",
              "    <tr>\n",
              "      <th>1</th>\n",
              "      <td>1</td>\n",
              "      <td>Male</td>\n",
              "      <td>44.502097</td>\n",
              "    </tr>\n",
              "  </tbody>\n",
              "</table>\n",
              "</div>\n",
              "      <button class=\"colab-df-convert\" onclick=\"convertToInteractive('df-336e60a1-b15a-4c5f-8108-9d5782881b35')\"\n",
              "              title=\"Convert this dataframe to an interactive table.\"\n",
              "              style=\"display:none;\">\n",
              "        \n",
              "  <svg xmlns=\"http://www.w3.org/2000/svg\" height=\"24px\"viewBox=\"0 0 24 24\"\n",
              "       width=\"24px\">\n",
              "    <path d=\"M0 0h24v24H0V0z\" fill=\"none\"/>\n",
              "    <path d=\"M18.56 5.44l.94 2.06.94-2.06 2.06-.94-2.06-.94-.94-2.06-.94 2.06-2.06.94zm-11 1L8.5 8.5l.94-2.06 2.06-.94-2.06-.94L8.5 2.5l-.94 2.06-2.06.94zm10 10l.94 2.06.94-2.06 2.06-.94-2.06-.94-.94-2.06-.94 2.06-2.06.94z\"/><path d=\"M17.41 7.96l-1.37-1.37c-.4-.4-.92-.59-1.43-.59-.52 0-1.04.2-1.43.59L10.3 9.45l-7.72 7.72c-.78.78-.78 2.05 0 2.83L4 21.41c.39.39.9.59 1.41.59.51 0 1.02-.2 1.41-.59l7.78-7.78 2.81-2.81c.8-.78.8-2.07 0-2.86zM5.41 20L4 18.59l7.72-7.72 1.47 1.35L5.41 20z\"/>\n",
              "  </svg>\n",
              "      </button>\n",
              "      \n",
              "  <style>\n",
              "    .colab-df-container {\n",
              "      display:flex;\n",
              "      flex-wrap:wrap;\n",
              "      gap: 12px;\n",
              "    }\n",
              "\n",
              "    .colab-df-convert {\n",
              "      background-color: #E8F0FE;\n",
              "      border: none;\n",
              "      border-radius: 50%;\n",
              "      cursor: pointer;\n",
              "      display: none;\n",
              "      fill: #1967D2;\n",
              "      height: 32px;\n",
              "      padding: 0 0 0 0;\n",
              "      width: 32px;\n",
              "    }\n",
              "\n",
              "    .colab-df-convert:hover {\n",
              "      background-color: #E2EBFA;\n",
              "      box-shadow: 0px 1px 2px rgba(60, 64, 67, 0.3), 0px 1px 3px 1px rgba(60, 64, 67, 0.15);\n",
              "      fill: #174EA6;\n",
              "    }\n",
              "\n",
              "    [theme=dark] .colab-df-convert {\n",
              "      background-color: #3B4455;\n",
              "      fill: #D2E3FC;\n",
              "    }\n",
              "\n",
              "    [theme=dark] .colab-df-convert:hover {\n",
              "      background-color: #434B5C;\n",
              "      box-shadow: 0px 1px 3px 1px rgba(0, 0, 0, 0.15);\n",
              "      filter: drop-shadow(0px 1px 2px rgba(0, 0, 0, 0.3));\n",
              "      fill: #FFFFFF;\n",
              "    }\n",
              "  </style>\n",
              "\n",
              "      <script>\n",
              "        const buttonEl =\n",
              "          document.querySelector('#df-336e60a1-b15a-4c5f-8108-9d5782881b35 button.colab-df-convert');\n",
              "        buttonEl.style.display =\n",
              "          google.colab.kernel.accessAllowed ? 'block' : 'none';\n",
              "\n",
              "        async function convertToInteractive(key) {\n",
              "          const element = document.querySelector('#df-336e60a1-b15a-4c5f-8108-9d5782881b35');\n",
              "          const dataTable =\n",
              "            await google.colab.kernel.invokeFunction('convertToInteractive',\n",
              "                                                     [key], {});\n",
              "          if (!dataTable) return;\n",
              "\n",
              "          const docLinkHtml = 'Like what you see? Visit the ' +\n",
              "            '<a target=\"_blank\" href=https://colab.research.google.com/notebooks/data_table.ipynb>data table notebook</a>'\n",
              "            + ' to learn more about interactive tables.';\n",
              "          element.innerHTML = '';\n",
              "          dataTable['output_type'] = 'display_data';\n",
              "          await google.colab.output.renderOutput(dataTable, element);\n",
              "          const docLink = document.createElement('div');\n",
              "          docLink.innerHTML = docLinkHtml;\n",
              "          element.appendChild(docLink);\n",
              "        }\n",
              "      </script>\n",
              "    </div>\n",
              "  </div>\n",
              "  "
            ],
            "text/plain": [
              "   Result Gender of the patient  Age of the patient\n",
              "2       2                Female           43.068889\n",
              "3       2                  Male           44.309737\n",
              "0       1                Female           43.291014\n",
              "1       1                  Male           44.502097"
            ]
          },
          "metadata": {},
          "execution_count": 12
        }
      ]
    },
    {
      "cell_type": "code",
      "source": [
        "# Plotting patient Age vs Gender\n",
        "sns.barplot(x=\"Age of the patient\", y=\"Gender of the patient\", hue=\"Result\", data=df, palette= [\"#7fcdbb\", \"#fc9272\"])"
      ],
      "metadata": {
        "colab": {
          "base_uri": "https://localhost:8080/",
          "height": 296
        },
        "id": "lc1IS67ckZS0",
        "outputId": "b8ba9288-a2e4-45b3-c7ff-40f9ede3969c"
      },
      "execution_count": 13,
      "outputs": [
        {
          "output_type": "execute_result",
          "data": {
            "text/plain": [
              "<matplotlib.axes._subplots.AxesSubplot at 0x7f7268ce55d0>"
            ]
          },
          "metadata": {},
          "execution_count": 13
        },
        {
          "output_type": "display_data",
          "data": {
            "image/png": "[encoded data removed]",
            "text/plain": [
              "<Figure size 432x288 with 1 Axes>"
            ]
          },
          "metadata": {
            "needs_background": "light"
          }
        }
      ]
    },
    {
      "cell_type": "code",
      "source": [
        "# Plotting Age vs Gender\n",
        "g = sns.FacetGrid(df, col=\"Result\", row=\"Gender of the patient\", margin_titles=True)\n",
        "g.map(plt.hist, \"Age of the patient\", color=\"purple\")\n",
        "plt.subplots_adjust(top=0.9)\n",
        "g.fig.suptitle('Liver Disease by Gender and Age')"
      ],
      "metadata": {
        "colab": {
          "base_uri": "https://localhost:8080/",
          "height": 460
        },
        "id": "pjgqedRLko6f",
        "outputId": "a8a8fe63-92d3-4d2d-b7eb-1c2513cd014d"
      },
      "execution_count": 14,
      "outputs": [
        {
          "output_type": "execute_result",
          "data": {
            "text/plain": [
              "Text(0.5, 0.98, 'Liver Disease by Gender and Age')"
            ]
          },
          "metadata": {},
          "execution_count": 14
        },
        {
          "output_type": "display_data",
          "data": {
            "image/png": "[encoded data removed]",
            "text/plain": [
              "<Figure size 432x432 with 4 Axes>"
            ]
          },
          "metadata": {
            "needs_background": "light"
          }
        }
      ]
    },
    {
      "cell_type": "code",
      "source": [
        "# Plotting Gender(Male/Female) along with Total_Bilirubin and Direct_Bilirubin\n",
        "g = sns.FacetGrid(df, col=\"Gender of the patient\", row=\"Result\", margin_titles=True)\n",
        "g.map(plt.scatter,\"Direct Bilirubin\", \"Total Bilirubin\", edgecolor=\"r\")\n",
        "plt.subplots_adjust(top=0.9)"
      ],
      "metadata": {
        "colab": {
          "base_uri": "https://localhost:8080/",
          "height": 423
        },
        "id": "dkHWj_Hklbja",
        "outputId": "b8a17c61-11a9-4309-82b7-133aae021377"
      },
      "execution_count": 15,
      "outputs": [
        {
          "output_type": "display_data",
          "data": {
            "image/png": "[encoded data removed]",
            "text/plain": [
              "<Figure size 432x432 with 4 Axes>"
            ]
          },
          "metadata": {
            "needs_background": "light"
          }
        }
      ]
    },
    {
      "cell_type": "code",
      "source": [
        "# Plotting Total_Bilirubin vs Direct_Bilirubin\n",
        "color = sns.color_palette()[5]\n",
        "\n",
        "\n",
        "sns.jointplot(\"Total Bilirubin\", \"Direct Bilirubin\", data=df, kind=\"reg\",xlim=(0, 60), ylim=(0, 12), color='y', size=7)"
      ],
      "metadata": {
        "colab": {
          "base_uri": "https://localhost:8080/",
          "height": 620
        },
        "id": "q4Ky0iZpms-t",
        "outputId": "1b9b258f-a72f-4399-c738-f30555712720"
      },
      "execution_count": 16,
      "outputs": [
        {
          "output_type": "stream",
          "name": "stderr",
          "text": [
            "/usr/local/lib/python3.7/dist-packages/seaborn/_decorators.py:43: FutureWarning: Pass the following variables as keyword args: x, y. From version 0.12, the only valid positional argument will be `data`, and passing other arguments without an explicit keyword will result in an error or misinterpretation.\n",
            "  FutureWarning\n",
            "/usr/local/lib/python3.7/dist-packages/seaborn/axisgrid.py:2182: UserWarning: The `size` parameter has been renamed to `height`; please update your code.\n",
            "  warnings.warn(msg, UserWarning)\n"
          ]
        },
        {
          "output_type": "execute_result",
          "data": {
            "text/plain": [
              "<seaborn.axisgrid.JointGrid at 0x7f7260444a50>"
            ]
          },
          "metadata": {},
          "execution_count": 16
        },
        {
          "output_type": "display_data",
          "data": {
            "image/png": "[encoded data removed]",
            "text/plain": [
              "<Figure size 504x504 with 3 Axes>"
            ]
          },
          "metadata": {
            "needs_background": "light"
          }
        }
      ]
    },
    {
      "cell_type": "code",
      "source": [
        "# Plotting Total_Bilirubin vs Total Protiens\n",
        "color = sns.color_palette()[5]\n",
        "\n",
        "\n",
        "sns.jointplot(\"Total Bilirubin\", \"Total Protiens\", data=df, kind=\"reg\",xlim=(0, 60), ylim=(0, 12), color='g', size=7)"
      ],
      "metadata": {
        "colab": {
          "base_uri": "https://localhost:8080/",
          "height": 620
        },
        "id": "5-y8FGGOozoe",
        "outputId": "63745f90-aefa-4737-dbc9-8c79367618c2"
      },
      "execution_count": 17,
      "outputs": [
        {
          "output_type": "stream",
          "name": "stderr",
          "text": [
            "/usr/local/lib/python3.7/dist-packages/seaborn/_decorators.py:43: FutureWarning: Pass the following variables as keyword args: x, y. From version 0.12, the only valid positional argument will be `data`, and passing other arguments without an explicit keyword will result in an error or misinterpretation.\n",
            "  FutureWarning\n",
            "/usr/local/lib/python3.7/dist-packages/seaborn/axisgrid.py:2182: UserWarning: The `size` parameter has been renamed to `height`; please update your code.\n",
            "  warnings.warn(msg, UserWarning)\n"
          ]
        },
        {
          "output_type": "execute_result",
          "data": {
            "text/plain": [
              "<seaborn.axisgrid.JointGrid at 0x7f726081ec10>"
            ]
          },
          "metadata": {},
          "execution_count": 17
        },
        {
          "output_type": "display_data",
          "data": {
            "image/png": "[encoded data removed]",
            "text/plain": [
              "<Figure size 504x504 with 3 Axes>"
            ]
          },
          "metadata": {
            "needs_background": "light"
          }
        }
      ]
    },
    {
      "cell_type": "code",
      "source": [
        "# Plotting Total_Bilirubin vs Result\n",
        "color = sns.color_palette()[5]\n",
        "\n",
        "\n",
        "sns.jointplot(\"Total Bilirubin\", \"Result\", data=df, kind=\"reg\",xlim=(0, 60), ylim=(0, 12), color='r', size=7)"
      ],
      "metadata": {
        "colab": {
          "base_uri": "https://localhost:8080/",
          "height": 620
        },
        "id": "ynja-AlMplsx",
        "outputId": "3f03c08a-1b8c-436e-ff57-eb97525719b9"
      },
      "execution_count": 18,
      "outputs": [
        {
          "output_type": "stream",
          "name": "stderr",
          "text": [
            "/usr/local/lib/python3.7/dist-packages/seaborn/_decorators.py:43: FutureWarning: Pass the following variables as keyword args: x, y. From version 0.12, the only valid positional argument will be `data`, and passing other arguments without an explicit keyword will result in an error or misinterpretation.\n",
            "  FutureWarning\n",
            "/usr/local/lib/python3.7/dist-packages/seaborn/axisgrid.py:2182: UserWarning: The `size` parameter has been renamed to `height`; please update your code.\n",
            "  warnings.warn(msg, UserWarning)\n"
          ]
        },
        {
          "output_type": "execute_result",
          "data": {
            "text/plain": [
              "<seaborn.axisgrid.JointGrid at 0x7f725d4a1f50>"
            ]
          },
          "metadata": {},
          "execution_count": 18
        },
        {
          "output_type": "display_data",
          "data": {
            "image/png": "[encoded data removed]",
            "text/plain": [
              "<Figure size 504x504 with 3 Axes>"
            ]
          },
          "metadata": {
            "needs_background": "light"
          }
        }
      ]
    },
    {
      "cell_type": "code",
      "source": [
        "df.describe()"
      ],
      "metadata": {
        "colab": {
          "base_uri": "https://localhost:8080/",
          "height": 416
        },
        "id": "RCMfzlQDqV0B",
        "outputId": "63403bd3-91ea-45fd-e615-e329e9659999"
      },
      "execution_count": 19,
      "outputs": [
        {
          "output_type": "execute_result",
          "data": {
            "text/html": [
              "\n",
              "  <div id=\"df-55935834-7fd6-4055-b407-7f629e23da99\">\n",
              "    <div class=\"colab-df-container\">\n",
              "      <div>\n",
              "<style scoped>\n",
              "    .dataframe tbody tr th:only-of-type {\n",
              "        vertical-align: middle;\n",
              "    }\n",
              "\n",
              "    .dataframe tbody tr th {\n",
              "        vertical-align: top;\n",
              "    }\n",
              "\n",
              "    .dataframe thead th {\n",
              "        text-align: right;\n",
              "    }\n",
              "</style>\n",
              "<table border=\"1\" class=\"dataframe\">\n",
              "  <thead>\n",
              "    <tr style=\"text-align: right;\">\n",
              "      <th></th>\n",
              "      <th>Age of the patient</th>\n",
              "      <th>Total Bilirubin</th>\n",
              "      <th>Direct Bilirubin</th>\n",
              "      <th>Alkphos Alkaline Phosphotase</th>\n",
              "      <th>Sgpt Alamine Aminotransferase</th>\n",
              "      <th>Sgot Aspartate Aminotransferase</th>\n",
              "      <th>Total Protiens</th>\n",
              "      <th>ALB Albumin</th>\n",
              "      <th>A/G Ratio Albumin and Globulin Ratio</th>\n",
              "      <th>Result</th>\n",
              "    </tr>\n",
              "  </thead>\n",
              "  <tbody>\n",
              "    <tr>\n",
              "      <th>count</th>\n",
              "      <td>30689.000000</td>\n",
              "      <td>30043.000000</td>\n",
              "      <td>30130.000000</td>\n",
              "      <td>29895.000000</td>\n",
              "      <td>30153.000000</td>\n",
              "      <td>30229.000000</td>\n",
              "      <td>30228.000000</td>\n",
              "      <td>30197.000000</td>\n",
              "      <td>30132.000000</td>\n",
              "      <td>30691.000000</td>\n",
              "    </tr>\n",
              "    <tr>\n",
              "      <th>mean</th>\n",
              "      <td>44.107205</td>\n",
              "      <td>3.370319</td>\n",
              "      <td>1.528042</td>\n",
              "      <td>289.075364</td>\n",
              "      <td>81.488641</td>\n",
              "      <td>111.469979</td>\n",
              "      <td>6.480237</td>\n",
              "      <td>3.130142</td>\n",
              "      <td>0.943467</td>\n",
              "      <td>1.285882</td>\n",
              "    </tr>\n",
              "    <tr>\n",
              "      <th>std</th>\n",
              "      <td>15.981043</td>\n",
              "      <td>6.255522</td>\n",
              "      <td>2.869592</td>\n",
              "      <td>238.537589</td>\n",
              "      <td>182.158850</td>\n",
              "      <td>280.851078</td>\n",
              "      <td>1.081980</td>\n",
              "      <td>0.792281</td>\n",
              "      <td>0.323164</td>\n",
              "      <td>0.451841</td>\n",
              "    </tr>\n",
              "    <tr>\n",
              "      <th>min</th>\n",
              "      <td>4.000000</td>\n",
              "      <td>0.400000</td>\n",
              "      <td>0.100000</td>\n",
              "      <td>63.000000</td>\n",
              "      <td>10.000000</td>\n",
              "      <td>10.000000</td>\n",
              "      <td>2.700000</td>\n",
              "      <td>0.900000</td>\n",
              "      <td>0.300000</td>\n",
              "      <td>1.000000</td>\n",
              "    </tr>\n",
              "    <tr>\n",
              "      <th>25%</th>\n",
              "      <td>32.000000</td>\n",
              "      <td>0.800000</td>\n",
              "      <td>0.200000</td>\n",
              "      <td>175.000000</td>\n",
              "      <td>23.000000</td>\n",
              "      <td>26.000000</td>\n",
              "      <td>5.800000</td>\n",
              "      <td>2.600000</td>\n",
              "      <td>0.700000</td>\n",
              "      <td>1.000000</td>\n",
              "    </tr>\n",
              "    <tr>\n",
              "      <th>50%</th>\n",
              "      <td>45.000000</td>\n",
              "      <td>1.000000</td>\n",
              "      <td>0.300000</td>\n",
              "      <td>209.000000</td>\n",
              "      <td>35.000000</td>\n",
              "      <td>42.000000</td>\n",
              "      <td>6.600000</td>\n",
              "      <td>3.100000</td>\n",
              "      <td>0.900000</td>\n",
              "      <td>1.000000</td>\n",
              "    </tr>\n",
              "    <tr>\n",
              "      <th>75%</th>\n",
              "      <td>55.000000</td>\n",
              "      <td>2.700000</td>\n",
              "      <td>1.300000</td>\n",
              "      <td>298.000000</td>\n",
              "      <td>62.000000</td>\n",
              "      <td>88.000000</td>\n",
              "      <td>7.200000</td>\n",
              "      <td>3.800000</td>\n",
              "      <td>1.100000</td>\n",
              "      <td>2.000000</td>\n",
              "    </tr>\n",
              "    <tr>\n",
              "      <th>max</th>\n",
              "      <td>90.000000</td>\n",
              "      <td>75.000000</td>\n",
              "      <td>19.700000</td>\n",
              "      <td>2110.000000</td>\n",
              "      <td>2000.000000</td>\n",
              "      <td>4929.000000</td>\n",
              "      <td>9.600000</td>\n",
              "      <td>5.500000</td>\n",
              "      <td>2.800000</td>\n",
              "      <td>2.000000</td>\n",
              "    </tr>\n",
              "  </tbody>\n",
              "</table>\n",
              "</div>\n",
              "      <button class=\"colab-df-convert\" onclick=\"convertToInteractive('df-55935834-7fd6-4055-b407-7f629e23da99')\"\n",
              "              title=\"Convert this dataframe to an interactive table.\"\n",
              "              style=\"display:none;\">\n",
              "        \n",
              "  <svg xmlns=\"http://www.w3.org/2000/svg\" height=\"24px\"viewBox=\"0 0 24 24\"\n",
              "       width=\"24px\">\n",
              "    <path d=\"M0 0h24v24H0V0z\" fill=\"none\"/>\n",
              "    <path d=\"M18.56 5.44l.94 2.06.94-2.06 2.06-.94-2.06-.94-.94-2.06-.94 2.06-2.06.94zm-11 1L8.5 8.5l.94-2.06 2.06-.94-2.06-.94L8.5 2.5l-.94 2.06-2.06.94zm10 10l.94 2.06.94-2.06 2.06-.94-2.06-.94-.94-2.06-.94 2.06-2.06.94z\"/><path d=\"M17.41 7.96l-1.37-1.37c-.4-.4-.92-.59-1.43-.59-.52 0-1.04.2-1.43.59L10.3 9.45l-7.72 7.72c-.78.78-.78 2.05 0 2.83L4 21.41c.39.39.9.59 1.41.59.51 0 1.02-.2 1.41-.59l7.78-7.78 2.81-2.81c.8-.78.8-2.07 0-2.86zM5.41 20L4 18.59l7.72-7.72 1.47 1.35L5.41 20z\"/>\n",
              "  </svg>\n",
              "      </button>\n",
              "      \n",
              "  <style>\n",
              "    .colab-df-container {\n",
              "      display:flex;\n",
              "      flex-wrap:wrap;\n",
              "      gap: 12px;\n",
              "    }\n",
              "\n",
              "    .colab-df-convert {\n",
              "      background-color: #E8F0FE;\n",
              "      border: none;\n",
              "      border-radius: 50%;\n",
              "      cursor: pointer;\n",
              "      display: none;\n",
              "      fill: #1967D2;\n",
              "      height: 32px;\n",
              "      padding: 0 0 0 0;\n",
              "      width: 32px;\n",
              "    }\n",
              "\n",
              "    .colab-df-convert:hover {\n",
              "      background-color: #E2EBFA;\n",
              "      box-shadow: 0px 1px 2px rgba(60, 64, 67, 0.3), 0px 1px 3px 1px rgba(60, 64, 67, 0.15);\n",
              "      fill: #174EA6;\n",
              "    }\n",
              "\n",
              "    [theme=dark] .colab-df-convert {\n",
              "      background-color: #3B4455;\n",
              "      fill: #D2E3FC;\n",
              "    }\n",
              "\n",
              "    [theme=dark] .colab-df-convert:hover {\n",
              "      background-color: #434B5C;\n",
              "      box-shadow: 0px 1px 3px 1px rgba(0, 0, 0, 0.15);\n",
              "      filter: drop-shadow(0px 1px 2px rgba(0, 0, 0, 0.3));\n",
              "      fill: #FFFFFF;\n",
              "    }\n",
              "  </style>\n",
              "\n",
              "      <script>\n",
              "        const buttonEl =\n",
              "          document.querySelector('#df-55935834-7fd6-4055-b407-7f629e23da99 button.colab-df-convert');\n",
              "        buttonEl.style.display =\n",
              "          google.colab.kernel.accessAllowed ? 'block' : 'none';\n",
              "\n",
              "        async function convertToInteractive(key) {\n",
              "          const element = document.querySelector('#df-55935834-7fd6-4055-b407-7f629e23da99');\n",
              "          const dataTable =\n",
              "            await google.colab.kernel.invokeFunction('convertToInteractive',\n",
              "                                                     [key], {});\n",
              "          if (!dataTable) return;\n",
              "\n",
              "          const docLinkHtml = 'Like what you see? Visit the ' +\n",
              "            '<a target=\"_blank\" href=https://colab.research.google.com/notebooks/data_table.ipynb>data table notebook</a>'\n",
              "            + ' to learn more about interactive tables.';\n",
              "          element.innerHTML = '';\n",
              "          dataTable['output_type'] = 'display_data';\n",
              "          await google.colab.output.renderOutput(dataTable, element);\n",
              "          const docLink = document.createElement('div');\n",
              "          docLink.innerHTML = docLinkHtml;\n",
              "          element.appendChild(docLink);\n",
              "        }\n",
              "      </script>\n",
              "    </div>\n",
              "  </div>\n",
              "  "
            ],
            "text/plain": [
              "       Age of the patient  ...        Result\n",
              "count        30689.000000  ...  30691.000000\n",
              "mean            44.107205  ...      1.285882\n",
              "std             15.981043  ...      0.451841\n",
              "min              4.000000  ...      1.000000\n",
              "25%             32.000000  ...      1.000000\n",
              "50%             45.000000  ...      1.000000\n",
              "75%             55.000000  ...      2.000000\n",
              "max             90.000000  ...      2.000000\n",
              "\n",
              "[8 rows x 10 columns]"
            ]
          },
          "metadata": {},
          "execution_count": 19
        }
      ]
    },
    {
      "cell_type": "code",
      "source": [
        "df.head(3)"
      ],
      "metadata": {
        "colab": {
          "base_uri": "https://localhost:8080/",
          "height": 239
        },
        "id": "NyJAHFPcmwan",
        "outputId": "02dac0fa-2a28-4572-943a-fdaac4d1670e"
      },
      "execution_count": 20,
      "outputs": [
        {
          "output_type": "execute_result",
          "data": {
            "text/html": [
              "\n",
              "  <div id=\"df-b74e355a-267c-465d-bd66-011c30f76259\">\n",
              "    <div class=\"colab-df-container\">\n",
              "      <div>\n",
              "<style scoped>\n",
              "    .dataframe tbody tr th:only-of-type {\n",
              "        vertical-align: middle;\n",
              "    }\n",
              "\n",
              "    .dataframe tbody tr th {\n",
              "        vertical-align: top;\n",
              "    }\n",
              "\n",
              "    .dataframe thead th {\n",
              "        text-align: right;\n",
              "    }\n",
              "</style>\n",
              "<table border=\"1\" class=\"dataframe\">\n",
              "  <thead>\n",
              "    <tr style=\"text-align: right;\">\n",
              "      <th></th>\n",
              "      <th>Age of the patient</th>\n",
              "      <th>Gender of the patient</th>\n",
              "      <th>Total Bilirubin</th>\n",
              "      <th>Direct Bilirubin</th>\n",
              "      <th>Alkphos Alkaline Phosphotase</th>\n",
              "      <th>Sgpt Alamine Aminotransferase</th>\n",
              "      <th>Sgot Aspartate Aminotransferase</th>\n",
              "      <th>Total Protiens</th>\n",
              "      <th>ALB Albumin</th>\n",
              "      <th>A/G Ratio Albumin and Globulin Ratio</th>\n",
              "      <th>Result</th>\n",
              "    </tr>\n",
              "  </thead>\n",
              "  <tbody>\n",
              "    <tr>\n",
              "      <th>0</th>\n",
              "      <td>65.0</td>\n",
              "      <td>Female</td>\n",
              "      <td>0.7</td>\n",
              "      <td>0.1</td>\n",
              "      <td>187.0</td>\n",
              "      <td>16.0</td>\n",
              "      <td>18.0</td>\n",
              "      <td>6.8</td>\n",
              "      <td>3.3</td>\n",
              "      <td>0.90</td>\n",
              "      <td>1</td>\n",
              "    </tr>\n",
              "    <tr>\n",
              "      <th>1</th>\n",
              "      <td>62.0</td>\n",
              "      <td>Male</td>\n",
              "      <td>10.9</td>\n",
              "      <td>5.5</td>\n",
              "      <td>699.0</td>\n",
              "      <td>64.0</td>\n",
              "      <td>100.0</td>\n",
              "      <td>7.5</td>\n",
              "      <td>3.2</td>\n",
              "      <td>0.74</td>\n",
              "      <td>1</td>\n",
              "    </tr>\n",
              "    <tr>\n",
              "      <th>2</th>\n",
              "      <td>62.0</td>\n",
              "      <td>Male</td>\n",
              "      <td>7.3</td>\n",
              "      <td>4.1</td>\n",
              "      <td>490.0</td>\n",
              "      <td>60.0</td>\n",
              "      <td>68.0</td>\n",
              "      <td>7.0</td>\n",
              "      <td>3.3</td>\n",
              "      <td>0.89</td>\n",
              "      <td>1</td>\n",
              "    </tr>\n",
              "  </tbody>\n",
              "</table>\n",
              "</div>\n",
              "      <button class=\"colab-df-convert\" onclick=\"convertToInteractive('df-b74e355a-267c-465d-bd66-011c30f76259')\"\n",
              "              title=\"Convert this dataframe to an interactive table.\"\n",
              "              style=\"display:none;\">\n",
              "        \n",
              "  <svg xmlns=\"http://www.w3.org/2000/svg\" height=\"24px\"viewBox=\"0 0 24 24\"\n",
              "       width=\"24px\">\n",
              "    <path d=\"M0 0h24v24H0V0z\" fill=\"none\"/>\n",
              "    <path d=\"M18.56 5.44l.94 2.06.94-2.06 2.06-.94-2.06-.94-.94-2.06-.94 2.06-2.06.94zm-11 1L8.5 8.5l.94-2.06 2.06-.94-2.06-.94L8.5 2.5l-.94 2.06-2.06.94zm10 10l.94 2.06.94-2.06 2.06-.94-2.06-.94-.94-2.06-.94 2.06-2.06.94z\"/><path d=\"M17.41 7.96l-1.37-1.37c-.4-.4-.92-.59-1.43-.59-.52 0-1.04.2-1.43.59L10.3 9.45l-7.72 7.72c-.78.78-.78 2.05 0 2.83L4 21.41c.39.39.9.59 1.41.59.51 0 1.02-.2 1.41-.59l7.78-7.78 2.81-2.81c.8-.78.8-2.07 0-2.86zM5.41 20L4 18.59l7.72-7.72 1.47 1.35L5.41 20z\"/>\n",
              "  </svg>\n",
              "      </button>\n",
              "      \n",
              "  <style>\n",
              "    .colab-df-container {\n",
              "      display:flex;\n",
              "      flex-wrap:wrap;\n",
              "      gap: 12px;\n",
              "    }\n",
              "\n",
              "    .colab-df-convert {\n",
              "      background-color: #E8F0FE;\n",
              "      border: none;\n",
              "      border-radius: 50%;\n",
              "      cursor: pointer;\n",
              "      display: none;\n",
              "      fill: #1967D2;\n",
              "      height: 32px;\n",
              "      padding: 0 0 0 0;\n",
              "      width: 32px;\n",
              "    }\n",
              "\n",
              "    .colab-df-convert:hover {\n",
              "      background-color: #E2EBFA;\n",
              "      box-shadow: 0px 1px 2px rgba(60, 64, 67, 0.3), 0px 1px 3px 1px rgba(60, 64, 67, 0.15);\n",
              "      fill: #174EA6;\n",
              "    }\n",
              "\n",
              "    [theme=dark] .colab-df-convert {\n",
              "      background-color: #3B4455;\n",
              "      fill: #D2E3FC;\n",
              "    }\n",
              "\n",
              "    [theme=dark] .colab-df-convert:hover {\n",
              "      background-color: #434B5C;\n",
              "      box-shadow: 0px 1px 3px 1px rgba(0, 0, 0, 0.15);\n",
              "      filter: drop-shadow(0px 1px 2px rgba(0, 0, 0, 0.3));\n",
              "      fill: #FFFFFF;\n",
              "    }\n",
              "  </style>\n",
              "\n",
              "      <script>\n",
              "        const buttonEl =\n",
              "          document.querySelector('#df-b74e355a-267c-465d-bd66-011c30f76259 button.colab-df-convert');\n",
              "        buttonEl.style.display =\n",
              "          google.colab.kernel.accessAllowed ? 'block' : 'none';\n",
              "\n",
              "        async function convertToInteractive(key) {\n",
              "          const element = document.querySelector('#df-b74e355a-267c-465d-bd66-011c30f76259');\n",
              "          const dataTable =\n",
              "            await google.colab.kernel.invokeFunction('convertToInteractive',\n",
              "                                                     [key], {});\n",
              "          if (!dataTable) return;\n",
              "\n",
              "          const docLinkHtml = 'Like what you see? Visit the ' +\n",
              "            '<a target=\"_blank\" href=https://colab.research.google.com/notebooks/data_table.ipynb>data table notebook</a>'\n",
              "            + ' to learn more about interactive tables.';\n",
              "          element.innerHTML = '';\n",
              "          dataTable['output_type'] = 'display_data';\n",
              "          await google.colab.output.renderOutput(dataTable, element);\n",
              "          const docLink = document.createElement('div');\n",
              "          docLink.innerHTML = docLinkHtml;\n",
              "          element.appendChild(docLink);\n",
              "        }\n",
              "      </script>\n",
              "    </div>\n",
              "  </div>\n",
              "  "
            ],
            "text/plain": [
              "   Age of the patient  ... Result\n",
              "0                65.0  ...      1\n",
              "1                62.0  ...      1\n",
              "2                62.0  ...      1\n",
              "\n",
              "[3 rows x 11 columns]"
            ]
          },
          "metadata": {},
          "execution_count": 20
        }
      ]
    },
    {
      "cell_type": "code",
      "source": [
        "pd.get_dummies(df['Gender of the patient'], prefix = 'Gender of the patient').head()"
      ],
      "metadata": {
        "colab": {
          "base_uri": "https://localhost:8080/",
          "height": 206
        },
        "id": "WXqImeqpm38Q",
        "outputId": "3986427e-eced-47a2-ad89-81b256561835"
      },
      "execution_count": 21,
      "outputs": [
        {
          "output_type": "execute_result",
          "data": {
            "text/html": [
              "\n",
              "  <div id=\"df-4d508115-42c6-439f-abb6-3d2f89075944\">\n",
              "    <div class=\"colab-df-container\">\n",
              "      <div>\n",
              "<style scoped>\n",
              "    .dataframe tbody tr th:only-of-type {\n",
              "        vertical-align: middle;\n",
              "    }\n",
              "\n",
              "    .dataframe tbody tr th {\n",
              "        vertical-align: top;\n",
              "    }\n",
              "\n",
              "    .dataframe thead th {\n",
              "        text-align: right;\n",
              "    }\n",
              "</style>\n",
              "<table border=\"1\" class=\"dataframe\">\n",
              "  <thead>\n",
              "    <tr style=\"text-align: right;\">\n",
              "      <th></th>\n",
              "      <th>Gender of the patient_Female</th>\n",
              "      <th>Gender of the patient_Male</th>\n",
              "    </tr>\n",
              "  </thead>\n",
              "  <tbody>\n",
              "    <tr>\n",
              "      <th>0</th>\n",
              "      <td>1</td>\n",
              "      <td>0</td>\n",
              "    </tr>\n",
              "    <tr>\n",
              "      <th>1</th>\n",
              "      <td>0</td>\n",
              "      <td>1</td>\n",
              "    </tr>\n",
              "    <tr>\n",
              "      <th>2</th>\n",
              "      <td>0</td>\n",
              "      <td>1</td>\n",
              "    </tr>\n",
              "    <tr>\n",
              "      <th>3</th>\n",
              "      <td>0</td>\n",
              "      <td>1</td>\n",
              "    </tr>\n",
              "    <tr>\n",
              "      <th>4</th>\n",
              "      <td>0</td>\n",
              "      <td>1</td>\n",
              "    </tr>\n",
              "  </tbody>\n",
              "</table>\n",
              "</div>\n",
              "      <button class=\"colab-df-convert\" onclick=\"convertToInteractive('df-4d508115-42c6-439f-abb6-3d2f89075944')\"\n",
              "              title=\"Convert this dataframe to an interactive table.\"\n",
              "              style=\"display:none;\">\n",
              "        \n",
              "  <svg xmlns=\"http://www.w3.org/2000/svg\" height=\"24px\"viewBox=\"0 0 24 24\"\n",
              "       width=\"24px\">\n",
              "    <path d=\"M0 0h24v24H0V0z\" fill=\"none\"/>\n",
              "    <path d=\"M18.56 5.44l.94 2.06.94-2.06 2.06-.94-2.06-.94-.94-2.06-.94 2.06-2.06.94zm-11 1L8.5 8.5l.94-2.06 2.06-.94-2.06-.94L8.5 2.5l-.94 2.06-2.06.94zm10 10l.94 2.06.94-2.06 2.06-.94-2.06-.94-.94-2.06-.94 2.06-2.06.94z\"/><path d=\"M17.41 7.96l-1.37-1.37c-.4-.4-.92-.59-1.43-.59-.52 0-1.04.2-1.43.59L10.3 9.45l-7.72 7.72c-.78.78-.78 2.05 0 2.83L4 21.41c.39.39.9.59 1.41.59.51 0 1.02-.2 1.41-.59l7.78-7.78 2.81-2.81c.8-.78.8-2.07 0-2.86zM5.41 20L4 18.59l7.72-7.72 1.47 1.35L5.41 20z\"/>\n",
              "  </svg>\n",
              "      </button>\n",
              "      \n",
              "  <style>\n",
              "    .colab-df-container {\n",
              "      display:flex;\n",
              "      flex-wrap:wrap;\n",
              "      gap: 12px;\n",
              "    }\n",
              "\n",
              "    .colab-df-convert {\n",
              "      background-color: #E8F0FE;\n",
              "      border: none;\n",
              "      border-radius: 50%;\n",
              "      cursor: pointer;\n",
              "      display: none;\n",
              "      fill: #1967D2;\n",
              "      height: 32px;\n",
              "      padding: 0 0 0 0;\n",
              "      width: 32px;\n",
              "    }\n",
              "\n",
              "    .colab-df-convert:hover {\n",
              "      background-color: #E2EBFA;\n",
              "      box-shadow: 0px 1px 2px rgba(60, 64, 67, 0.3), 0px 1px 3px 1px rgba(60, 64, 67, 0.15);\n",
              "      fill: #174EA6;\n",
              "    }\n",
              "\n",
              "    [theme=dark] .colab-df-convert {\n",
              "      background-color: #3B4455;\n",
              "      fill: #D2E3FC;\n",
              "    }\n",
              "\n",
              "    [theme=dark] .colab-df-convert:hover {\n",
              "      background-color: #434B5C;\n",
              "      box-shadow: 0px 1px 3px 1px rgba(0, 0, 0, 0.15);\n",
              "      filter: drop-shadow(0px 1px 2px rgba(0, 0, 0, 0.3));\n",
              "      fill: #FFFFFF;\n",
              "    }\n",
              "  </style>\n",
              "\n",
              "      <script>\n",
              "        const buttonEl =\n",
              "          document.querySelector('#df-4d508115-42c6-439f-abb6-3d2f89075944 button.colab-df-convert');\n",
              "        buttonEl.style.display =\n",
              "          google.colab.kernel.accessAllowed ? 'block' : 'none';\n",
              "\n",
              "        async function convertToInteractive(key) {\n",
              "          const element = document.querySelector('#df-4d508115-42c6-439f-abb6-3d2f89075944');\n",
              "          const dataTable =\n",
              "            await google.colab.kernel.invokeFunction('convertToInteractive',\n",
              "                                                     [key], {});\n",
              "          if (!dataTable) return;\n",
              "\n",
              "          const docLinkHtml = 'Like what you see? Visit the ' +\n",
              "            '<a target=\"_blank\" href=https://colab.research.google.com/notebooks/data_table.ipynb>data table notebook</a>'\n",
              "            + ' to learn more about interactive tables.';\n",
              "          element.innerHTML = '';\n",
              "          dataTable['output_type'] = 'display_data';\n",
              "          await google.colab.output.renderOutput(dataTable, element);\n",
              "          const docLink = document.createElement('div');\n",
              "          docLink.innerHTML = docLinkHtml;\n",
              "          element.appendChild(docLink);\n",
              "        }\n",
              "      </script>\n",
              "    </div>\n",
              "  </div>\n",
              "  "
            ],
            "text/plain": [
              "   Gender of the patient_Female  Gender of the patient_Male\n",
              "0                             1                           0\n",
              "1                             0                           1\n",
              "2                             0                           1\n",
              "3                             0                           1\n",
              "4                             0                           1"
            ]
          },
          "metadata": {},
          "execution_count": 21
        }
      ]
    },
    {
      "cell_type": "code",
      "source": [
        "# Concatination\n",
        "df = pd.concat([df,pd.get_dummies(df['Gender of the patient'], prefix = 'Gender of the patient')], axis=1)"
      ],
      "metadata": {
        "id": "WJqFuLY_m9DL"
      },
      "execution_count": 22,
      "outputs": []
    },
    {
      "cell_type": "code",
      "source": [
        "df[df['A/G Ratio Albumin and Globulin Ratio'].isnull()]"
      ],
      "metadata": {
        "colab": {
          "base_uri": "https://localhost:8080/",
          "height": 574
        },
        "id": "evJVxjNvm9hW",
        "outputId": "3644dfeb-fb78-4a76-cb88-0f46a7d8c61a"
      },
      "execution_count": 23,
      "outputs": [
        {
          "output_type": "execute_result",
          "data": {
            "text/html": [
              "\n",
              "  <div id=\"df-38e68879-1c3b-462a-b67c-c67590b0b7f6\">\n",
              "    <div class=\"colab-df-container\">\n",
              "      <div>\n",
              "<style scoped>\n",
              "    .dataframe tbody tr th:only-of-type {\n",
              "        vertical-align: middle;\n",
              "    }\n",
              "\n",
              "    .dataframe tbody tr th {\n",
              "        vertical-align: top;\n",
              "    }\n",
              "\n",
              "    .dataframe thead th {\n",
              "        text-align: right;\n",
              "    }\n",
              "</style>\n",
              "<table border=\"1\" class=\"dataframe\">\n",
              "  <thead>\n",
              "    <tr style=\"text-align: right;\">\n",
              "      <th></th>\n",
              "      <th>Age of the patient</th>\n",
              "      <th>Gender of the patient</th>\n",
              "      <th>Total Bilirubin</th>\n",
              "      <th>Direct Bilirubin</th>\n",
              "      <th>Alkphos Alkaline Phosphotase</th>\n",
              "      <th>Sgpt Alamine Aminotransferase</th>\n",
              "      <th>Sgot Aspartate Aminotransferase</th>\n",
              "      <th>Total Protiens</th>\n",
              "      <th>ALB Albumin</th>\n",
              "      <th>A/G Ratio Albumin and Globulin Ratio</th>\n",
              "      <th>Result</th>\n",
              "      <th>Gender of the patient_Female</th>\n",
              "      <th>Gender of the patient_Male</th>\n",
              "    </tr>\n",
              "  </thead>\n",
              "  <tbody>\n",
              "    <tr>\n",
              "      <th>209</th>\n",
              "      <td>45.0</td>\n",
              "      <td>Female</td>\n",
              "      <td>0.9</td>\n",
              "      <td>0.3</td>\n",
              "      <td>189.0</td>\n",
              "      <td>23.0</td>\n",
              "      <td>33.0</td>\n",
              "      <td>6.6</td>\n",
              "      <td>3.9</td>\n",
              "      <td>NaN</td>\n",
              "      <td>1</td>\n",
              "      <td>1</td>\n",
              "      <td>0</td>\n",
              "    </tr>\n",
              "    <tr>\n",
              "      <th>241</th>\n",
              "      <td>51.0</td>\n",
              "      <td>Male</td>\n",
              "      <td>0.8</td>\n",
              "      <td>0.2</td>\n",
              "      <td>230.0</td>\n",
              "      <td>24.0</td>\n",
              "      <td>46.0</td>\n",
              "      <td>6.5</td>\n",
              "      <td>3.1</td>\n",
              "      <td>NaN</td>\n",
              "      <td>1</td>\n",
              "      <td>0</td>\n",
              "      <td>1</td>\n",
              "    </tr>\n",
              "    <tr>\n",
              "      <th>253</th>\n",
              "      <td>35.0</td>\n",
              "      <td>Female</td>\n",
              "      <td>0.6</td>\n",
              "      <td>0.2</td>\n",
              "      <td>180.0</td>\n",
              "      <td>12.0</td>\n",
              "      <td>15.0</td>\n",
              "      <td>5.2</td>\n",
              "      <td>2.7</td>\n",
              "      <td>NaN</td>\n",
              "      <td>2</td>\n",
              "      <td>1</td>\n",
              "      <td>0</td>\n",
              "    </tr>\n",
              "    <tr>\n",
              "      <th>312</th>\n",
              "      <td>27.0</td>\n",
              "      <td>Male</td>\n",
              "      <td>1.3</td>\n",
              "      <td>0.6</td>\n",
              "      <td>106.0</td>\n",
              "      <td>25.0</td>\n",
              "      <td>54.0</td>\n",
              "      <td>8.5</td>\n",
              "      <td>4.8</td>\n",
              "      <td>NaN</td>\n",
              "      <td>2</td>\n",
              "      <td>0</td>\n",
              "      <td>1</td>\n",
              "    </tr>\n",
              "    <tr>\n",
              "      <th>792</th>\n",
              "      <td>73.0</td>\n",
              "      <td>Male</td>\n",
              "      <td>0.9</td>\n",
              "      <td>0.3</td>\n",
              "      <td>189.0</td>\n",
              "      <td>23.0</td>\n",
              "      <td>33.0</td>\n",
              "      <td>6.6</td>\n",
              "      <td>3.9</td>\n",
              "      <td>NaN</td>\n",
              "      <td>1</td>\n",
              "      <td>0</td>\n",
              "      <td>1</td>\n",
              "    </tr>\n",
              "    <tr>\n",
              "      <th>...</th>\n",
              "      <td>...</td>\n",
              "      <td>...</td>\n",
              "      <td>...</td>\n",
              "      <td>...</td>\n",
              "      <td>...</td>\n",
              "      <td>...</td>\n",
              "      <td>...</td>\n",
              "      <td>...</td>\n",
              "      <td>...</td>\n",
              "      <td>...</td>\n",
              "      <td>...</td>\n",
              "      <td>...</td>\n",
              "      <td>...</td>\n",
              "    </tr>\n",
              "    <tr>\n",
              "      <th>30606</th>\n",
              "      <td>50.0</td>\n",
              "      <td>Male</td>\n",
              "      <td>1.2</td>\n",
              "      <td>0.4</td>\n",
              "      <td>160.0</td>\n",
              "      <td>20.0</td>\n",
              "      <td>22.0</td>\n",
              "      <td>NaN</td>\n",
              "      <td>NaN</td>\n",
              "      <td>NaN</td>\n",
              "      <td>2</td>\n",
              "      <td>0</td>\n",
              "      <td>1</td>\n",
              "    </tr>\n",
              "    <tr>\n",
              "      <th>30607</th>\n",
              "      <td>70.0</td>\n",
              "      <td>Male</td>\n",
              "      <td>0.6</td>\n",
              "      <td>0.1</td>\n",
              "      <td>196.0</td>\n",
              "      <td>29.0</td>\n",
              "      <td>30.0</td>\n",
              "      <td>NaN</td>\n",
              "      <td>NaN</td>\n",
              "      <td>NaN</td>\n",
              "      <td>1</td>\n",
              "      <td>0</td>\n",
              "      <td>1</td>\n",
              "    </tr>\n",
              "    <tr>\n",
              "      <th>30634</th>\n",
              "      <td>33.0</td>\n",
              "      <td>Male</td>\n",
              "      <td>0.6</td>\n",
              "      <td>0.1</td>\n",
              "      <td>98.0</td>\n",
              "      <td>35.0</td>\n",
              "      <td>31.0</td>\n",
              "      <td>6.0</td>\n",
              "      <td>NaN</td>\n",
              "      <td>NaN</td>\n",
              "      <td>1</td>\n",
              "      <td>0</td>\n",
              "      <td>1</td>\n",
              "    </tr>\n",
              "    <tr>\n",
              "      <th>30635</th>\n",
              "      <td>65.0</td>\n",
              "      <td>Male</td>\n",
              "      <td>0.8</td>\n",
              "      <td>0.2</td>\n",
              "      <td>245.0</td>\n",
              "      <td>48.0</td>\n",
              "      <td>49.0</td>\n",
              "      <td>6.4</td>\n",
              "      <td>NaN</td>\n",
              "      <td>NaN</td>\n",
              "      <td>1</td>\n",
              "      <td>0</td>\n",
              "      <td>1</td>\n",
              "    </tr>\n",
              "    <tr>\n",
              "      <th>30636</th>\n",
              "      <td>35.0</td>\n",
              "      <td>Male</td>\n",
              "      <td>1.3</td>\n",
              "      <td>0.5</td>\n",
              "      <td>184.0</td>\n",
              "      <td>29.0</td>\n",
              "      <td>32.0</td>\n",
              "      <td>6.8</td>\n",
              "      <td>NaN</td>\n",
              "      <td>NaN</td>\n",
              "      <td>1</td>\n",
              "      <td>0</td>\n",
              "      <td>1</td>\n",
              "    </tr>\n",
              "  </tbody>\n",
              "</table>\n",
              "<p>559 rows × 13 columns</p>\n",
              "</div>\n",
              "      <button class=\"colab-df-convert\" onclick=\"convertToInteractive('df-38e68879-1c3b-462a-b67c-c67590b0b7f6')\"\n",
              "              title=\"Convert this dataframe to an interactive table.\"\n",
              "              style=\"display:none;\">\n",
              "        \n",
              "  <svg xmlns=\"http://www.w3.org/2000/svg\" height=\"24px\"viewBox=\"0 0 24 24\"\n",
              "       width=\"24px\">\n",
              "    <path d=\"M0 0h24v24H0V0z\" fill=\"none\"/>\n",
              "    <path d=\"M18.56 5.44l.94 2.06.94-2.06 2.06-.94-2.06-.94-.94-2.06-.94 2.06-2.06.94zm-11 1L8.5 8.5l.94-2.06 2.06-.94-2.06-.94L8.5 2.5l-.94 2.06-2.06.94zm10 10l.94 2.06.94-2.06 2.06-.94-2.06-.94-.94-2.06-.94 2.06-2.06.94z\"/><path d=\"M17.41 7.96l-1.37-1.37c-.4-.4-.92-.59-1.43-.59-.52 0-1.04.2-1.43.59L10.3 9.45l-7.72 7.72c-.78.78-.78 2.05 0 2.83L4 21.41c.39.39.9.59 1.41.59.51 0 1.02-.2 1.41-.59l7.78-7.78 2.81-2.81c.8-.78.8-2.07 0-2.86zM5.41 20L4 18.59l7.72-7.72 1.47 1.35L5.41 20z\"/>\n",
              "  </svg>\n",
              "      </button>\n",
              "      \n",
              "  <style>\n",
              "    .colab-df-container {\n",
              "      display:flex;\n",
              "      flex-wrap:wrap;\n",
              "      gap: 12px;\n",
              "    }\n",
              "\n",
              "    .colab-df-convert {\n",
              "      background-color: #E8F0FE;\n",
              "      border: none;\n",
              "      border-radius: 50%;\n",
              "      cursor: pointer;\n",
              "      display: none;\n",
              "      fill: #1967D2;\n",
              "      height: 32px;\n",
              "      padding: 0 0 0 0;\n",
              "      width: 32px;\n",
              "    }\n",
              "\n",
              "    .colab-df-convert:hover {\n",
              "      background-color: #E2EBFA;\n",
              "      box-shadow: 0px 1px 2px rgba(60, 64, 67, 0.3), 0px 1px 3px 1px rgba(60, 64, 67, 0.15);\n",
              "      fill: #174EA6;\n",
              "    }\n",
              "\n",
              "    [theme=dark] .colab-df-convert {\n",
              "      background-color: #3B4455;\n",
              "      fill: #D2E3FC;\n",
              "    }\n",
              "\n",
              "    [theme=dark] .colab-df-convert:hover {\n",
              "      background-color: #434B5C;\n",
              "      box-shadow: 0px 1px 3px 1px rgba(0, 0, 0, 0.15);\n",
              "      filter: drop-shadow(0px 1px 2px rgba(0, 0, 0, 0.3));\n",
              "      fill: #FFFFFF;\n",
              "    }\n",
              "  </style>\n",
              "\n",
              "      <script>\n",
              "        const buttonEl =\n",
              "          document.querySelector('#df-38e68879-1c3b-462a-b67c-c67590b0b7f6 button.colab-df-convert');\n",
              "        buttonEl.style.display =\n",
              "          google.colab.kernel.accessAllowed ? 'block' : 'none';\n",
              "\n",
              "        async function convertToInteractive(key) {\n",
              "          const element = document.querySelector('#df-38e68879-1c3b-462a-b67c-c67590b0b7f6');\n",
              "          const dataTable =\n",
              "            await google.colab.kernel.invokeFunction('convertToInteractive',\n",
              "                                                     [key], {});\n",
              "          if (!dataTable) return;\n",
              "\n",
              "          const docLinkHtml = 'Like what you see? Visit the ' +\n",
              "            '<a target=\"_blank\" href=https://colab.research.google.com/notebooks/data_table.ipynb>data table notebook</a>'\n",
              "            + ' to learn more about interactive tables.';\n",
              "          element.innerHTML = '';\n",
              "          dataTable['output_type'] = 'display_data';\n",
              "          await google.colab.output.renderOutput(dataTable, element);\n",
              "          const docLink = document.createElement('div');\n",
              "          docLink.innerHTML = docLinkHtml;\n",
              "          element.appendChild(docLink);\n",
              "        }\n",
              "      </script>\n",
              "    </div>\n",
              "  </div>\n",
              "  "
            ],
            "text/plain": [
              "       Age of the patient  ... Gender of the patient_Male\n",
              "209                  45.0  ...                          0\n",
              "241                  51.0  ...                          1\n",
              "253                  35.0  ...                          0\n",
              "312                  27.0  ...                          1\n",
              "792                  73.0  ...                          1\n",
              "...                   ...  ...                        ...\n",
              "30606                50.0  ...                          1\n",
              "30607                70.0  ...                          1\n",
              "30634                33.0  ...                          1\n",
              "30635                65.0  ...                          1\n",
              "30636                35.0  ...                          1\n",
              "\n",
              "[559 rows x 13 columns]"
            ]
          },
          "metadata": {},
          "execution_count": 23
        }
      ]
    },
    {
      "cell_type": "code",
      "source": [
        "X = df.drop(['Gender of the patient','Result'], axis=1)\n",
        "X.head(3)"
      ],
      "metadata": {
        "colab": {
          "base_uri": "https://localhost:8080/",
          "height": 274
        },
        "id": "kDveee7_qw1H",
        "outputId": "b08f3a49-adf6-4784-a63b-08e6e97c2bac"
      },
      "execution_count": 24,
      "outputs": [
        {
          "output_type": "execute_result",
          "data": {
            "text/html": [
              "\n",
              "  <div id=\"df-0baff664-90af-4b76-917c-08628d173091\">\n",
              "    <div class=\"colab-df-container\">\n",
              "      <div>\n",
              "<style scoped>\n",
              "    .dataframe tbody tr th:only-of-type {\n",
              "        vertical-align: middle;\n",
              "    }\n",
              "\n",
              "    .dataframe tbody tr th {\n",
              "        vertical-align: top;\n",
              "    }\n",
              "\n",
              "    .dataframe thead th {\n",
              "        text-align: right;\n",
              "    }\n",
              "</style>\n",
              "<table border=\"1\" class=\"dataframe\">\n",
              "  <thead>\n",
              "    <tr style=\"text-align: right;\">\n",
              "      <th></th>\n",
              "      <th>Age of the patient</th>\n",
              "      <th>Total Bilirubin</th>\n",
              "      <th>Direct Bilirubin</th>\n",
              "      <th>Alkphos Alkaline Phosphotase</th>\n",
              "      <th>Sgpt Alamine Aminotransferase</th>\n",
              "      <th>Sgot Aspartate Aminotransferase</th>\n",
              "      <th>Total Protiens</th>\n",
              "      <th>ALB Albumin</th>\n",
              "      <th>A/G Ratio Albumin and Globulin Ratio</th>\n",
              "      <th>Gender of the patient_Female</th>\n",
              "      <th>Gender of the patient_Male</th>\n",
              "    </tr>\n",
              "  </thead>\n",
              "  <tbody>\n",
              "    <tr>\n",
              "      <th>0</th>\n",
              "      <td>65.0</td>\n",
              "      <td>0.7</td>\n",
              "      <td>0.1</td>\n",
              "      <td>187.0</td>\n",
              "      <td>16.0</td>\n",
              "      <td>18.0</td>\n",
              "      <td>6.8</td>\n",
              "      <td>3.3</td>\n",
              "      <td>0.90</td>\n",
              "      <td>1</td>\n",
              "      <td>0</td>\n",
              "    </tr>\n",
              "    <tr>\n",
              "      <th>1</th>\n",
              "      <td>62.0</td>\n",
              "      <td>10.9</td>\n",
              "      <td>5.5</td>\n",
              "      <td>699.0</td>\n",
              "      <td>64.0</td>\n",
              "      <td>100.0</td>\n",
              "      <td>7.5</td>\n",
              "      <td>3.2</td>\n",
              "      <td>0.74</td>\n",
              "      <td>0</td>\n",
              "      <td>1</td>\n",
              "    </tr>\n",
              "    <tr>\n",
              "      <th>2</th>\n",
              "      <td>62.0</td>\n",
              "      <td>7.3</td>\n",
              "      <td>4.1</td>\n",
              "      <td>490.0</td>\n",
              "      <td>60.0</td>\n",
              "      <td>68.0</td>\n",
              "      <td>7.0</td>\n",
              "      <td>3.3</td>\n",
              "      <td>0.89</td>\n",
              "      <td>0</td>\n",
              "      <td>1</td>\n",
              "    </tr>\n",
              "  </tbody>\n",
              "</table>\n",
              "</div>\n",
              "      <button class=\"colab-df-convert\" onclick=\"convertToInteractive('df-0baff664-90af-4b76-917c-08628d173091')\"\n",
              "              title=\"Convert this dataframe to an interactive table.\"\n",
              "              style=\"display:none;\">\n",
              "        \n",
              "  <svg xmlns=\"http://www.w3.org/2000/svg\" height=\"24px\"viewBox=\"0 0 24 24\"\n",
              "       width=\"24px\">\n",
              "    <path d=\"M0 0h24v24H0V0z\" fill=\"none\"/>\n",
              "    <path d=\"M18.56 5.44l.94 2.06.94-2.06 2.06-.94-2.06-.94-.94-2.06-.94 2.06-2.06.94zm-11 1L8.5 8.5l.94-2.06 2.06-.94-2.06-.94L8.5 2.5l-.94 2.06-2.06.94zm10 10l.94 2.06.94-2.06 2.06-.94-2.06-.94-.94-2.06-.94 2.06-2.06.94z\"/><path d=\"M17.41 7.96l-1.37-1.37c-.4-.4-.92-.59-1.43-.59-.52 0-1.04.2-1.43.59L10.3 9.45l-7.72 7.72c-.78.78-.78 2.05 0 2.83L4 21.41c.39.39.9.59 1.41.59.51 0 1.02-.2 1.41-.59l7.78-7.78 2.81-2.81c.8-.78.8-2.07 0-2.86zM5.41 20L4 18.59l7.72-7.72 1.47 1.35L5.41 20z\"/>\n",
              "  </svg>\n",
              "      </button>\n",
              "      \n",
              "  <style>\n",
              "    .colab-df-container {\n",
              "      display:flex;\n",
              "      flex-wrap:wrap;\n",
              "      gap: 12px;\n",
              "    }\n",
              "\n",
              "    .colab-df-convert {\n",
              "      background-color: #E8F0FE;\n",
              "      border: none;\n",
              "      border-radius: 50%;\n",
              "      cursor: pointer;\n",
              "      display: none;\n",
              "      fill: #1967D2;\n",
              "      height: 32px;\n",
              "      padding: 0 0 0 0;\n",
              "      width: 32px;\n",
              "    }\n",
              "\n",
              "    .colab-df-convert:hover {\n",
              "      background-color: #E2EBFA;\n",
              "      box-shadow: 0px 1px 2px rgba(60, 64, 67, 0.3), 0px 1px 3px 1px rgba(60, 64, 67, 0.15);\n",
              "      fill: #174EA6;\n",
              "    }\n",
              "\n",
              "    [theme=dark] .colab-df-convert {\n",
              "      background-color: #3B4455;\n",
              "      fill: #D2E3FC;\n",
              "    }\n",
              "\n",
              "    [theme=dark] .colab-df-convert:hover {\n",
              "      background-color: #434B5C;\n",
              "      box-shadow: 0px 1px 3px 1px rgba(0, 0, 0, 0.15);\n",
              "      filter: drop-shadow(0px 1px 2px rgba(0, 0, 0, 0.3));\n",
              "      fill: #FFFFFF;\n",
              "    }\n",
              "  </style>\n",
              "\n",
              "      <script>\n",
              "        const buttonEl =\n",
              "          document.querySelector('#df-0baff664-90af-4b76-917c-08628d173091 button.colab-df-convert');\n",
              "        buttonEl.style.display =\n",
              "          google.colab.kernel.accessAllowed ? 'block' : 'none';\n",
              "\n",
              "        async function convertToInteractive(key) {\n",
              "          const element = document.querySelector('#df-0baff664-90af-4b76-917c-08628d173091');\n",
              "          const dataTable =\n",
              "            await google.colab.kernel.invokeFunction('convertToInteractive',\n",
              "                                                     [key], {});\n",
              "          if (!dataTable) return;\n",
              "\n",
              "          const docLinkHtml = 'Like what you see? Visit the ' +\n",
              "            '<a target=\"_blank\" href=https://colab.research.google.com/notebooks/data_table.ipynb>data table notebook</a>'\n",
              "            + ' to learn more about interactive tables.';\n",
              "          element.innerHTML = '';\n",
              "          dataTable['output_type'] = 'display_data';\n",
              "          await google.colab.output.renderOutput(dataTable, element);\n",
              "          const docLink = document.createElement('div');\n",
              "          docLink.innerHTML = docLinkHtml;\n",
              "          element.appendChild(docLink);\n",
              "        }\n",
              "      </script>\n",
              "    </div>\n",
              "  </div>\n",
              "  "
            ],
            "text/plain": [
              "   Age of the patient  ...  Gender of the patient_Male\n",
              "0                65.0  ...                           0\n",
              "1                62.0  ...                           1\n",
              "2                62.0  ...                           1\n",
              "\n",
              "[3 rows x 11 columns]"
            ]
          },
          "metadata": {},
          "execution_count": 24
        }
      ]
    },
    {
      "cell_type": "code",
      "source": [
        "y = df['Result']"
      ],
      "metadata": {
        "id": "kk7twIGcq37b"
      },
      "execution_count": 25,
      "outputs": []
    },
    {
      "cell_type": "code",
      "source": [
        "df_corr = X.corr()\n",
        "df_corr"
      ],
      "metadata": {
        "colab": {
          "base_uri": "https://localhost:8080/",
          "height": 666
        },
        "id": "wROwEPcNq8ep",
        "outputId": "61d12a56-c55e-4984-b892-4952a1341466"
      },
      "execution_count": 26,
      "outputs": [
        {
          "output_type": "execute_result",
          "data": {
            "text/html": [
              "\n",
              "  <div id=\"df-4168cc08-1131-4239-90f2-ab012465fa49\">\n",
              "    <div class=\"colab-df-container\">\n",
              "      <div>\n",
              "<style scoped>\n",
              "    .dataframe tbody tr th:only-of-type {\n",
              "        vertical-align: middle;\n",
              "    }\n",
              "\n",
              "    .dataframe tbody tr th {\n",
              "        vertical-align: top;\n",
              "    }\n",
              "\n",
              "    .dataframe thead th {\n",
              "        text-align: right;\n",
              "    }\n",
              "</style>\n",
              "<table border=\"1\" class=\"dataframe\">\n",
              "  <thead>\n",
              "    <tr style=\"text-align: right;\">\n",
              "      <th></th>\n",
              "      <th>Age of the patient</th>\n",
              "      <th>Total Bilirubin</th>\n",
              "      <th>Direct Bilirubin</th>\n",
              "      <th>Alkphos Alkaline Phosphotase</th>\n",
              "      <th>Sgpt Alamine Aminotransferase</th>\n",
              "      <th>Sgot Aspartate Aminotransferase</th>\n",
              "      <th>Total Protiens</th>\n",
              "      <th>ALB Albumin</th>\n",
              "      <th>A/G Ratio Albumin and Globulin Ratio</th>\n",
              "      <th>Gender of the patient_Female</th>\n",
              "      <th>Gender of the patient_Male</th>\n",
              "    </tr>\n",
              "  </thead>\n",
              "  <tbody>\n",
              "    <tr>\n",
              "      <th>Age of the patient</th>\n",
              "      <td>1.000000</td>\n",
              "      <td>-0.001600</td>\n",
              "      <td>-0.001521</td>\n",
              "      <td>-0.000761</td>\n",
              "      <td>0.000659</td>\n",
              "      <td>0.006104</td>\n",
              "      <td>-0.007951</td>\n",
              "      <td>-0.015164</td>\n",
              "      <td>-0.018056</td>\n",
              "      <td>-0.032162</td>\n",
              "      <td>0.033836</td>\n",
              "    </tr>\n",
              "    <tr>\n",
              "      <th>Total Bilirubin</th>\n",
              "      <td>-0.001600</td>\n",
              "      <td>1.000000</td>\n",
              "      <td>0.886987</td>\n",
              "      <td>0.197183</td>\n",
              "      <td>0.207893</td>\n",
              "      <td>0.240273</td>\n",
              "      <td>0.001185</td>\n",
              "      <td>-0.222522</td>\n",
              "      <td>-0.197978</td>\n",
              "      <td>-0.012446</td>\n",
              "      <td>0.013470</td>\n",
              "    </tr>\n",
              "    <tr>\n",
              "      <th>Direct Bilirubin</th>\n",
              "      <td>-0.001521</td>\n",
              "      <td>0.886987</td>\n",
              "      <td>1.000000</td>\n",
              "      <td>0.220954</td>\n",
              "      <td>0.222759</td>\n",
              "      <td>0.256200</td>\n",
              "      <td>0.006474</td>\n",
              "      <td>-0.229106</td>\n",
              "      <td>-0.189414</td>\n",
              "      <td>-0.011069</td>\n",
              "      <td>0.010978</td>\n",
              "    </tr>\n",
              "    <tr>\n",
              "      <th>Alkphos Alkaline Phosphotase</th>\n",
              "      <td>-0.000761</td>\n",
              "      <td>0.197183</td>\n",
              "      <td>0.220954</td>\n",
              "      <td>1.000000</td>\n",
              "      <td>0.124099</td>\n",
              "      <td>0.160690</td>\n",
              "      <td>-0.022321</td>\n",
              "      <td>-0.161060</td>\n",
              "      <td>-0.228583</td>\n",
              "      <td>-0.006365</td>\n",
              "      <td>0.009340</td>\n",
              "    </tr>\n",
              "    <tr>\n",
              "      <th>Sgpt Alamine Aminotransferase</th>\n",
              "      <td>0.000659</td>\n",
              "      <td>0.207893</td>\n",
              "      <td>0.222759</td>\n",
              "      <td>0.124099</td>\n",
              "      <td>1.000000</td>\n",
              "      <td>0.783411</td>\n",
              "      <td>-0.041400</td>\n",
              "      <td>-0.026346</td>\n",
              "      <td>-0.002433</td>\n",
              "      <td>-0.003460</td>\n",
              "      <td>0.002105</td>\n",
              "    </tr>\n",
              "    <tr>\n",
              "      <th>Sgot Aspartate Aminotransferase</th>\n",
              "      <td>0.006104</td>\n",
              "      <td>0.240273</td>\n",
              "      <td>0.256200</td>\n",
              "      <td>0.160690</td>\n",
              "      <td>0.783411</td>\n",
              "      <td>1.000000</td>\n",
              "      <td>-0.024501</td>\n",
              "      <td>-0.083383</td>\n",
              "      <td>-0.066912</td>\n",
              "      <td>0.003971</td>\n",
              "      <td>-0.003812</td>\n",
              "    </tr>\n",
              "    <tr>\n",
              "      <th>Total Protiens</th>\n",
              "      <td>-0.007951</td>\n",
              "      <td>0.001185</td>\n",
              "      <td>0.006474</td>\n",
              "      <td>-0.022321</td>\n",
              "      <td>-0.041400</td>\n",
              "      <td>-0.024501</td>\n",
              "      <td>1.000000</td>\n",
              "      <td>0.775607</td>\n",
              "      <td>0.226314</td>\n",
              "      <td>-0.004995</td>\n",
              "      <td>0.005610</td>\n",
              "    </tr>\n",
              "    <tr>\n",
              "      <th>ALB Albumin</th>\n",
              "      <td>-0.015164</td>\n",
              "      <td>-0.222522</td>\n",
              "      <td>-0.229106</td>\n",
              "      <td>-0.161060</td>\n",
              "      <td>-0.026346</td>\n",
              "      <td>-0.083383</td>\n",
              "      <td>0.775607</td>\n",
              "      <td>1.000000</td>\n",
              "      <td>0.682759</td>\n",
              "      <td>-0.004001</td>\n",
              "      <td>0.001115</td>\n",
              "    </tr>\n",
              "    <tr>\n",
              "      <th>A/G Ratio Albumin and Globulin Ratio</th>\n",
              "      <td>-0.018056</td>\n",
              "      <td>-0.197978</td>\n",
              "      <td>-0.189414</td>\n",
              "      <td>-0.228583</td>\n",
              "      <td>-0.002433</td>\n",
              "      <td>-0.066912</td>\n",
              "      <td>0.226314</td>\n",
              "      <td>0.682759</td>\n",
              "      <td>1.000000</td>\n",
              "      <td>-0.000692</td>\n",
              "      <td>-0.002300</td>\n",
              "    </tr>\n",
              "    <tr>\n",
              "      <th>Gender of the patient_Female</th>\n",
              "      <td>-0.032162</td>\n",
              "      <td>-0.012446</td>\n",
              "      <td>-0.011069</td>\n",
              "      <td>-0.006365</td>\n",
              "      <td>-0.003460</td>\n",
              "      <td>0.003971</td>\n",
              "      <td>-0.004995</td>\n",
              "      <td>-0.004001</td>\n",
              "      <td>-0.000692</td>\n",
              "      <td>1.000000</td>\n",
              "      <td>-0.927931</td>\n",
              "    </tr>\n",
              "    <tr>\n",
              "      <th>Gender of the patient_Male</th>\n",
              "      <td>0.033836</td>\n",
              "      <td>0.013470</td>\n",
              "      <td>0.010978</td>\n",
              "      <td>0.009340</td>\n",
              "      <td>0.002105</td>\n",
              "      <td>-0.003812</td>\n",
              "      <td>0.005610</td>\n",
              "      <td>0.001115</td>\n",
              "      <td>-0.002300</td>\n",
              "      <td>-0.927931</td>\n",
              "      <td>1.000000</td>\n",
              "    </tr>\n",
              "  </tbody>\n",
              "</table>\n",
              "</div>\n",
              "      <button class=\"colab-df-convert\" onclick=\"convertToInteractive('df-4168cc08-1131-4239-90f2-ab012465fa49')\"\n",
              "              title=\"Convert this dataframe to an interactive table.\"\n",
              "              style=\"display:none;\">\n",
              "        \n",
              "  <svg xmlns=\"http://www.w3.org/2000/svg\" height=\"24px\"viewBox=\"0 0 24 24\"\n",
              "       width=\"24px\">\n",
              "    <path d=\"M0 0h24v24H0V0z\" fill=\"none\"/>\n",
              "    <path d=\"M18.56 5.44l.94 2.06.94-2.06 2.06-.94-2.06-.94-.94-2.06-.94 2.06-2.06.94zm-11 1L8.5 8.5l.94-2.06 2.06-.94-2.06-.94L8.5 2.5l-.94 2.06-2.06.94zm10 10l.94 2.06.94-2.06 2.06-.94-2.06-.94-.94-2.06-.94 2.06-2.06.94z\"/><path d=\"M17.41 7.96l-1.37-1.37c-.4-.4-.92-.59-1.43-.59-.52 0-1.04.2-1.43.59L10.3 9.45l-7.72 7.72c-.78.78-.78 2.05 0 2.83L4 21.41c.39.39.9.59 1.41.59.51 0 1.02-.2 1.41-.59l7.78-7.78 2.81-2.81c.8-.78.8-2.07 0-2.86zM5.41 20L4 18.59l7.72-7.72 1.47 1.35L5.41 20z\"/>\n",
              "  </svg>\n",
              "      </button>\n",
              "      \n",
              "  <style>\n",
              "    .colab-df-container {\n",
              "      display:flex;\n",
              "      flex-wrap:wrap;\n",
              "      gap: 12px;\n",
              "    }\n",
              "\n",
              "    .colab-df-convert {\n",
              "      background-color: #E8F0FE;\n",
              "      border: none;\n",
              "      border-radius: 50%;\n",
              "      cursor: pointer;\n",
              "      display: none;\n",
              "      fill: #1967D2;\n",
              "      height: 32px;\n",
              "      padding: 0 0 0 0;\n",
              "      width: 32px;\n",
              "    }\n",
              "\n",
              "    .colab-df-convert:hover {\n",
              "      background-color: #E2EBFA;\n",
              "      box-shadow: 0px 1px 2px rgba(60, 64, 67, 0.3), 0px 1px 3px 1px rgba(60, 64, 67, 0.15);\n",
              "      fill: #174EA6;\n",
              "    }\n",
              "\n",
              "    [theme=dark] .colab-df-convert {\n",
              "      background-color: #3B4455;\n",
              "      fill: #D2E3FC;\n",
              "    }\n",
              "\n",
              "    [theme=dark] .colab-df-convert:hover {\n",
              "      background-color: #434B5C;\n",
              "      box-shadow: 0px 1px 3px 1px rgba(0, 0, 0, 0.15);\n",
              "      filter: drop-shadow(0px 1px 2px rgba(0, 0, 0, 0.3));\n",
              "      fill: #FFFFFF;\n",
              "    }\n",
              "  </style>\n",
              "\n",
              "      <script>\n",
              "        const buttonEl =\n",
              "          document.querySelector('#df-4168cc08-1131-4239-90f2-ab012465fa49 button.colab-df-convert');\n",
              "        buttonEl.style.display =\n",
              "          google.colab.kernel.accessAllowed ? 'block' : 'none';\n",
              "\n",
              "        async function convertToInteractive(key) {\n",
              "          const element = document.querySelector('#df-4168cc08-1131-4239-90f2-ab012465fa49');\n",
              "          const dataTable =\n",
              "            await google.colab.kernel.invokeFunction('convertToInteractive',\n",
              "                                                     [key], {});\n",
              "          if (!dataTable) return;\n",
              "\n",
              "          const docLinkHtml = 'Like what you see? Visit the ' +\n",
              "            '<a target=\"_blank\" href=https://colab.research.google.com/notebooks/data_table.ipynb>data table notebook</a>'\n",
              "            + ' to learn more about interactive tables.';\n",
              "          element.innerHTML = '';\n",
              "          dataTable['output_type'] = 'display_data';\n",
              "          await google.colab.output.renderOutput(dataTable, element);\n",
              "          const docLink = document.createElement('div');\n",
              "          docLink.innerHTML = docLinkHtml;\n",
              "          element.appendChild(docLink);\n",
              "        }\n",
              "      </script>\n",
              "    </div>\n",
              "  </div>\n",
              "  "
            ],
            "text/plain": [
              "                                      Age of the patient  ...  Gender of the patient_Male\n",
              "Age of the patient                              1.000000  ...                    0.033836\n",
              "Total Bilirubin                                -0.001600  ...                    0.013470\n",
              "Direct Bilirubin                               -0.001521  ...                    0.010978\n",
              " Alkphos Alkaline Phosphotase                  -0.000761  ...                    0.009340\n",
              " Sgpt Alamine Aminotransferase                  0.000659  ...                    0.002105\n",
              "Sgot Aspartate Aminotransferase                 0.006104  ...                   -0.003812\n",
              "Total Protiens                                 -0.007951  ...                    0.005610\n",
              " ALB Albumin                                   -0.015164  ...                    0.001115\n",
              "A/G Ratio Albumin and Globulin Ratio           -0.018056  ...                   -0.002300\n",
              "Gender of the patient_Female                   -0.032162  ...                   -0.927931\n",
              "Gender of the patient_Male                      0.033836  ...                    1.000000\n",
              "\n",
              "[11 rows x 11 columns]"
            ]
          },
          "metadata": {},
          "execution_count": 26
        }
      ]
    },
    {
      "cell_type": "code",
      "source": [
        "plt.figure(figsize=(12,12))\n",
        "sns.heatmap(df_corr, cbar = True,  square = True, annot=True, fmt= '.2f', annot_kws={'size': 12}, cmap= 'inferno')\n",
        "plt.title('Correlation between all the features')"
      ],
      "metadata": {
        "colab": {
          "base_uri": "https://localhost:8080/",
          "height": 839
        },
        "id": "Lk5oiQ-trAmJ",
        "outputId": "d9c17bf5-b135-4379-85d3-cd592539255d"
      },
      "execution_count": 27,
      "outputs": [
        {
          "output_type": "execute_result",
          "data": {
            "text/plain": [
              "Text(0.5, 1.0, 'Correlation between all the features')"
            ]
          },
          "metadata": {},
          "execution_count": 27
        },
        {
          "output_type": "display_data",
          "data": {
            "image/png": "[encoded data removed]",
            "text/plain": [
              "<Figure size 864x864 with 2 Axes>"
            ]
          },
          "metadata": {
            "needs_background": "light"
          }
        }
      ]
    },
    {
      "cell_type": "code",
      "source": [
        "X_train, X_test, y_train, y_test = train_test_split(X, y, test_size = 0.2, random_state = 0)"
      ],
      "metadata": {
        "id": "U7NzvaL5vBhW"
      },
      "execution_count": 28,
      "outputs": []
    },
    {
      "cell_type": "code",
      "source": [
        "X_train, X_test, y_train, y_test = train_test_split(X, y, test_size=0.2, random_state=42)\n",
        "print (X_train.shape)\n",
        "print (y_train.shape)\n",
        "print (X_test.shape)\n",
        "print (y_test.shape)"
      ],
      "metadata": {
        "colab": {
          "base_uri": "https://localhost:8080/"
        },
        "id": "JpSzB-UDrEhK",
        "outputId": "0468d035-83e4-4070-831c-166cb3d995dd"
      },
      "execution_count": 29,
      "outputs": [
        {
          "output_type": "stream",
          "name": "stdout",
          "text": [
            "(24552, 11)\n",
            "(24552,)\n",
            "(6139, 11)\n",
            "(6139,)\n"
          ]
        }
      ]
    },
    {
      "cell_type": "code",
      "source": [
        "df = df.dropna()"
      ],
      "metadata": {
        "id": "oZ_59NwEruc3"
      },
      "execution_count": 30,
      "outputs": []
    },
    {
      "cell_type": "code",
      "source": [
        "y_test = np.nan_to_num(y_test)"
      ],
      "metadata": {
        "id": "yWafNBm9rznL"
      },
      "execution_count": 31,
      "outputs": []
    },
    {
      "cell_type": "code",
      "source": [
        "X_test = np.nan_to_num(X_test)"
      ],
      "metadata": {
        "id": "a6Lx4-MUrzp4"
      },
      "execution_count": 32,
      "outputs": []
    },
    {
      "cell_type": "code",
      "source": [
        "X_train = np.nan_to_num(X_train)"
      ],
      "metadata": {
        "id": "_GGhm41irzsi"
      },
      "execution_count": 33,
      "outputs": []
    },
    {
      "cell_type": "code",
      "source": [
        "y_train = np.nan_to_num(y_train)"
      ],
      "metadata": {
        "id": "AdP0dzYHrzvP"
      },
      "execution_count": 34,
      "outputs": []
    },
    {
      "cell_type": "code",
      "source": [
        "from sklearn.preprocessing import StandardScaler\n",
        "sc = StandardScaler()\n",
        "sc.fit(X_train)\n"
      ],
      "metadata": {
        "colab": {
          "base_uri": "https://localhost:8080/"
        },
        "id": "cYy0J5U-vu9Z",
        "outputId": "5a5c086f-d8f2-436a-f8a9-c27eb2d3fcd5"
      },
      "execution_count": 35,
      "outputs": [
        {
          "output_type": "execute_result",
          "data": {
            "text/plain": [
              "StandardScaler()"
            ]
          },
          "metadata": {},
          "execution_count": 35
        }
      ]
    },
    {
      "cell_type": "code",
      "source": [
        "X_train = sc.transform(X_train)\n",
        "X_test = sc.transform(X_test)\n"
      ],
      "metadata": {
        "id": "YiZ7x1B7vzYe"
      },
      "execution_count": 36,
      "outputs": []
    },
    {
      "cell_type": "code",
      "source": [
        "from sklearn.neural_network import MLPClassifier\n",
        "from sklearn.metrics import classification_report,confusion_matrix"
      ],
      "metadata": {
        "id": "BiMjVh5_v70I"
      },
      "execution_count": 39,
      "outputs": []
    },
    {
      "cell_type": "code",
      "source": [
        "\n",
        "mlp = MLPClassifier(hidden_layer_sizes=(32,16,8,1))\n",
        "mlp.fit(X_train,y_train)"
      ],
      "metadata": {
        "colab": {
          "base_uri": "https://localhost:8080/"
        },
        "id": "t_dGl1OFv_8C",
        "outputId": "698eaf29-b62c-45ce-a7b5-848c4b31c7cd"
      },
      "execution_count": 43,
      "outputs": [
        {
          "output_type": "execute_result",
          "data": {
            "text/plain": [
              "MLPClassifier(hidden_layer_sizes=(32, 16, 8, 1))"
            ]
          },
          "metadata": {},
          "execution_count": 43
        }
      ]
    },
    {
      "cell_type": "code",
      "source": [
        "predictions = mlp.predict(X_test)"
      ],
      "metadata": {
        "id": "QSdO7QP0wnh_"
      },
      "execution_count": 44,
      "outputs": []
    },
    {
      "cell_type": "code",
      "source": [
        "print(confusion_matrix(y_test,predictions))"
      ],
      "metadata": {
        "colab": {
          "base_uri": "https://localhost:8080/"
        },
        "id": "FQ5qj_rzwnm4",
        "outputId": "69ed9c74-9d33-4765-d3ef-db5c970acf0f"
      },
      "execution_count": 45,
      "outputs": [
        {
          "output_type": "stream",
          "name": "stdout",
          "text": [
            "[[4429    0]\n",
            " [1710    0]]\n"
          ]
        }
      ]
    },
    {
      "cell_type": "code",
      "source": [
        "print(classification_report(y_test,predictions))"
      ],
      "metadata": {
        "colab": {
          "base_uri": "https://localhost:8080/"
        },
        "id": "Vuev6mGfwnp0",
        "outputId": "70906124-a767-44c8-fc1d-5d4dd9207abe"
      },
      "execution_count": 46,
      "outputs": [
        {
          "output_type": "stream",
          "name": "stdout",
          "text": [
            "              precision    recall  f1-score   support\n",
            "\n",
            "           1       0.72      1.00      0.84      4429\n",
            "           2       0.00      0.00      0.00      1710\n",
            "\n",
            "    accuracy                           0.72      6139\n",
            "   macro avg       0.36      0.50      0.42      6139\n",
            "weighted avg       0.52      0.72      0.60      6139\n",
            "\n"
          ]
        },
        {
          "output_type": "stream",
          "name": "stderr",
          "text": [
            "/usr/local/lib/python3.7/dist-packages/sklearn/metrics/_classification.py:1318: UndefinedMetricWarning: Precision and F-score are ill-defined and being set to 0.0 in labels with no predicted samples. Use `zero_division` parameter to control this behavior.\n",
            "  _warn_prf(average, modifier, msg_start, len(result))\n",
            "/usr/local/lib/python3.7/dist-packages/sklearn/metrics/_classification.py:1318: UndefinedMetricWarning: Precision and F-score are ill-defined and being set to 0.0 in labels with no predicted samples. Use `zero_division` parameter to control this behavior.\n",
            "  _warn_prf(average, modifier, msg_start, len(result))\n",
            "/usr/local/lib/python3.7/dist-packages/sklearn/metrics/_classification.py:1318: UndefinedMetricWarning: Precision and F-score are ill-defined and being set to 0.0 in labels with no predicted samples. Use `zero_division` parameter to control this behavior.\n",
            "  _warn_prf(average, modifier, msg_start, len(result))\n"
          ]
        }
      ]
    },
    {
      "cell_type": "code",
      "source": [
        "classifier = Sequential() # Initialising the ANN\n",
        "\n",
        "classifier.add(Dense(units = 32, kernel_initializer = 'uniform', activation = 'relu', input_dim = 11))\n",
        "classifier.add(Dense(units = 16, kernel_initializer = 'uniform', activation = 'relu'))\n",
        "classifier.add(Dense(units = 8, kernel_initializer = 'uniform', activation = 'relu'))\n",
        "classifier.add(Dense(units = 1, kernel_initializer = 'uniform', activation = 'sigmoid'))\n",
        "# compile ANN\n",
        "classifier.compile(optimizer = 'Adam', loss = 'binary_crossentropy', metrics = ['accuracy'])\n",
        "\n"
      ],
      "metadata": {
        "id": "FzvwiHT2wnst"
      },
      "execution_count": 51,
      "outputs": []
    },
    {
      "cell_type": "code",
      "source": [
        "# Fitting the data\n",
        "history =classifier.fit(X_train, y_train, batch_size = 32, epochs = 100)"
      ],
      "metadata": {
        "colab": {
          "base_uri": "https://localhost:8080/"
        },
        "id": "NG433aStxcPc",
        "outputId": "e4f9643d-b989-4ca8-a313-771d33d13083"
      },
      "execution_count": 81,
      "outputs": [
        {
          "output_type": "stream",
          "name": "stdout",
          "text": [
            "Epoch 1/100\n",
            "768/768 [==============================] - 2s 2ms/step - loss: -30531456598016.0000 - accuracy: 0.7123\n",
            "Epoch 2/100\n",
            "768/768 [==============================] - 2s 2ms/step - loss: -30784287145984.0000 - accuracy: 0.7123\n",
            "Epoch 3/100\n",
            "768/768 [==============================] - 2s 2ms/step - loss: -31039407783936.0000 - accuracy: 0.7123\n",
            "Epoch 4/100\n",
            "768/768 [==============================] - 2s 2ms/step - loss: -31296185171968.0000 - accuracy: 0.7123\n",
            "Epoch 5/100\n",
            "768/768 [==============================] - 2s 2ms/step - loss: -31555231678464.0000 - accuracy: 0.7123\n",
            "Epoch 6/100\n",
            "768/768 [==============================] - 2s 2ms/step - loss: -31815953809408.0000 - accuracy: 0.7123\n",
            "Epoch 7/100\n",
            "768/768 [==============================] - 2s 2ms/step - loss: -32078162821120.0000 - accuracy: 0.7123\n",
            "Epoch 8/100\n",
            "768/768 [==============================] - 2s 2ms/step - loss: -32341277802496.0000 - accuracy: 0.7123\n",
            "Epoch 9/100\n",
            "768/768 [==============================] - 2s 2ms/step - loss: -32606565433344.0000 - accuracy: 0.7123\n",
            "Epoch 10/100\n",
            "768/768 [==============================] - 2s 2ms/step - loss: -32873736306688.0000 - accuracy: 0.7123\n",
            "Epoch 11/100\n",
            "768/768 [==============================] - 2s 2ms/step - loss: -33141624406016.0000 - accuracy: 0.7123\n",
            "Epoch 12/100\n",
            "768/768 [==============================] - 2s 2ms/step - loss: -33412001824768.0000 - accuracy: 0.7123\n",
            "Epoch 13/100\n",
            "768/768 [==============================] - 2s 2ms/step - loss: -33683757072384.0000 - accuracy: 0.7123\n",
            "Epoch 14/100\n",
            "768/768 [==============================] - 2s 2ms/step - loss: -33957494128640.0000 - accuracy: 0.7123\n",
            "Epoch 15/100\n",
            "768/768 [==============================] - 2s 3ms/step - loss: -34232913100800.0000 - accuracy: 0.7123\n",
            "Epoch 16/100\n",
            "768/768 [==============================] - 2s 2ms/step - loss: -34509206585344.0000 - accuracy: 0.7123\n",
            "Epoch 17/100\n",
            "768/768 [==============================] - 2s 2ms/step - loss: -34787618193408.0000 - accuracy: 0.7123\n",
            "Epoch 18/100\n",
            "768/768 [==============================] - 2s 2ms/step - loss: -35067715911680.0000 - accuracy: 0.7123\n",
            "Epoch 19/100\n",
            "768/768 [==============================] - 2s 2ms/step - loss: -35349963210752.0000 - accuracy: 0.7123\n",
            "Epoch 20/100\n",
            "768/768 [==============================] - 2s 2ms/step - loss: -35633984700416.0000 - accuracy: 0.7123\n",
            "Epoch 21/100\n",
            "768/768 [==============================] - 2s 2ms/step - loss: -35919222538240.0000 - accuracy: 0.7123\n",
            "Epoch 22/100\n",
            "768/768 [==============================] - 2s 2ms/step - loss: -36206578499584.0000 - accuracy: 0.7123\n",
            "Epoch 23/100\n",
            "768/768 [==============================] - 2s 2ms/step - loss: -36494815264768.0000 - accuracy: 0.7123\n",
            "Epoch 24/100\n",
            "768/768 [==============================] - 2s 2ms/step - loss: -36784868163584.0000 - accuracy: 0.7123\n",
            "Epoch 25/100\n",
            "768/768 [==============================] - 2s 2ms/step - loss: -37076837859328.0000 - accuracy: 0.7123\n",
            "Epoch 26/100\n",
            "768/768 [==============================] - 2s 2ms/step - loss: -37371424800768.0000 - accuracy: 0.7123\n",
            "Epoch 27/100\n",
            "768/768 [==============================] - 2s 2ms/step - loss: -37667475554304.0000 - accuracy: 0.7123\n",
            "Epoch 28/100\n",
            "768/768 [==============================] - 1s 2ms/step - loss: -37965166280704.0000 - accuracy: 0.7123\n",
            "Epoch 29/100\n",
            "768/768 [==============================] - 1s 2ms/step - loss: -38264257904640.0000 - accuracy: 0.7123\n",
            "Epoch 30/100\n",
            "768/768 [==============================] - 2s 2ms/step - loss: -38564943364096.0000 - accuracy: 0.7123\n",
            "Epoch 31/100\n",
            "768/768 [==============================] - 2s 2ms/step - loss: -38868753580032.0000 - accuracy: 0.7123\n",
            "Epoch 32/100\n",
            "768/768 [==============================] - 2s 2ms/step - loss: -39173603983360.0000 - accuracy: 0.7123\n",
            "Epoch 33/100\n",
            "768/768 [==============================] - 1s 2ms/step - loss: -39479364550656.0000 - accuracy: 0.7123\n",
            "Epoch 34/100\n",
            "768/768 [==============================] - 2s 2ms/step - loss: -39787876581376.0000 - accuracy: 0.7123\n",
            "Epoch 35/100\n",
            "768/768 [==============================] - 2s 2ms/step - loss: -40097978253312.0000 - accuracy: 0.7123\n",
            "Epoch 36/100\n",
            "768/768 [==============================] - 1s 2ms/step - loss: -40410042859520.0000 - accuracy: 0.7123\n",
            "Epoch 37/100\n",
            "768/768 [==============================] - 1s 2ms/step - loss: -40724414332928.0000 - accuracy: 0.7123\n",
            "Epoch 38/100\n",
            "768/768 [==============================] - 2s 2ms/step - loss: -41040379641856.0000 - accuracy: 0.7123\n",
            "Epoch 39/100\n",
            "768/768 [==============================] - 1s 2ms/step - loss: -41356919570432.0000 - accuracy: 0.7123\n",
            "Epoch 40/100\n",
            "768/768 [==============================] - 2s 2ms/step - loss: -41676189990912.0000 - accuracy: 0.7123\n",
            "Epoch 41/100\n",
            "768/768 [==============================] - 2s 2ms/step - loss: -41998023131136.0000 - accuracy: 0.7123\n",
            "Epoch 42/100\n",
            "768/768 [==============================] - 2s 2ms/step - loss: -42320950984704.0000 - accuracy: 0.7123\n",
            "Epoch 43/100\n",
            "768/768 [==============================] - 2s 2ms/step - loss: -42644860305408.0000 - accuracy: 0.7123\n",
            "Epoch 44/100\n",
            "768/768 [==============================] - 1s 2ms/step - loss: -42971416231936.0000 - accuracy: 0.7123\n",
            "Epoch 45/100\n",
            "768/768 [==============================] - 1s 2ms/step - loss: -43300132225024.0000 - accuracy: 0.7123\n",
            "Epoch 46/100\n",
            "768/768 [==============================] - 1s 2ms/step - loss: -43629028573184.0000 - accuracy: 0.7123\n",
            "Epoch 47/100\n",
            "768/768 [==============================] - 1s 2ms/step - loss: -43960215011328.0000 - accuracy: 0.7123\n",
            "Epoch 48/100\n",
            "768/768 [==============================] - 1s 2ms/step - loss: -44293657985024.0000 - accuracy: 0.7123\n",
            "Epoch 49/100\n",
            "768/768 [==============================] - 1s 2ms/step - loss: -44628921286656.0000 - accuracy: 0.7123\n",
            "Epoch 50/100\n",
            "768/768 [==============================] - 2s 2ms/step - loss: -44964809539584.0000 - accuracy: 0.7123\n",
            "Epoch 51/100\n",
            "768/768 [==============================] - 2s 2ms/step - loss: -45302966910976.0000 - accuracy: 0.7123\n",
            "Epoch 52/100\n",
            "768/768 [==============================] - 2s 2ms/step - loss: -45644014157824.0000 - accuracy: 0.7123\n",
            "Epoch 53/100\n",
            "768/768 [==============================] - 2s 2ms/step - loss: -45987200499712.0000 - accuracy: 0.7123\n",
            "Epoch 54/100\n",
            "768/768 [==============================] - 2s 2ms/step - loss: -46332777594880.0000 - accuracy: 0.7123\n",
            "Epoch 55/100\n",
            "768/768 [==============================] - 2s 2ms/step - loss: -46678186917888.0000 - accuracy: 0.7123\n",
            "Epoch 56/100\n",
            "768/768 [==============================] - 2s 2ms/step - loss: -47026540642304.0000 - accuracy: 0.7123\n",
            "Epoch 57/100\n",
            "768/768 [==============================] - 2s 2ms/step - loss: -47377327063040.0000 - accuracy: 0.7123\n",
            "Epoch 58/100\n",
            "768/768 [==============================] - 2s 2ms/step - loss: -47729803788288.0000 - accuracy: 0.7123\n",
            "Epoch 59/100\n",
            "768/768 [==============================] - 2s 2ms/step - loss: -48085099085824.0000 - accuracy: 0.7123\n",
            "Epoch 60/100\n",
            "768/768 [==============================] - 2s 2ms/step - loss: -48442214711296.0000 - accuracy: 0.7123\n",
            "Epoch 61/100\n",
            "768/768 [==============================] - 2s 2ms/step - loss: -48800693485568.0000 - accuracy: 0.7123\n",
            "Epoch 62/100\n",
            "768/768 [==============================] - 2s 2ms/step - loss: -49160938061824.0000 - accuracy: 0.7123\n",
            "Epoch 63/100\n",
            "768/768 [==============================] - 2s 2ms/step - loss: -49523254624256.0000 - accuracy: 0.7123\n",
            "Epoch 64/100\n",
            "768/768 [==============================] - 2s 2ms/step - loss: -49887752224768.0000 - accuracy: 0.7123\n",
            "Epoch 65/100\n",
            "768/768 [==============================] - 2s 2ms/step - loss: -50254669938688.0000 - accuracy: 0.7123\n",
            "Epoch 66/100\n",
            "768/768 [==============================] - 2s 2ms/step - loss: -50622862721024.0000 - accuracy: 0.7123\n",
            "Epoch 67/100\n",
            "768/768 [==============================] - 1s 2ms/step - loss: -50993278484480.0000 - accuracy: 0.7123\n",
            "Epoch 68/100\n",
            "768/768 [==============================] - 2s 2ms/step - loss: -51366907084800.0000 - accuracy: 0.7123\n",
            "Epoch 69/100\n",
            "768/768 [==============================] - 2s 2ms/step - loss: -51742670585856.0000 - accuracy: 0.7123\n",
            "Epoch 70/100\n",
            "768/768 [==============================] - 2s 2ms/step - loss: -52119965007872.0000 - accuracy: 0.7123\n",
            "Epoch 71/100\n",
            "768/768 [==============================] - 2s 2ms/step - loss: -52499356581888.0000 - accuracy: 0.7123\n",
            "Epoch 72/100\n",
            "768/768 [==============================] - 2s 2ms/step - loss: -52881927438336.0000 - accuracy: 0.7123\n",
            "Epoch 73/100\n",
            "768/768 [==============================] - 2s 2ms/step - loss: -53265727225856.0000 - accuracy: 0.7123\n",
            "Epoch 74/100\n",
            "768/768 [==============================] - 2s 2ms/step - loss: -53650223267840.0000 - accuracy: 0.7123\n",
            "Epoch 75/100\n",
            "768/768 [==============================] - 1s 2ms/step - loss: -54037110063104.0000 - accuracy: 0.7123\n",
            "Epoch 76/100\n",
            "768/768 [==============================] - 2s 2ms/step - loss: -54425880100864.0000 - accuracy: 0.7123\n",
            "Epoch 77/100\n",
            "768/768 [==============================] - 2s 2ms/step - loss: -54816634044416.0000 - accuracy: 0.7123\n",
            "Epoch 78/100\n",
            "768/768 [==============================] - 2s 2ms/step - loss: -55209254453248.0000 - accuracy: 0.7123\n",
            "Epoch 79/100\n",
            "768/768 [==============================] - 2s 2ms/step - loss: -55605263859712.0000 - accuracy: 0.7123\n",
            "Epoch 80/100\n",
            "768/768 [==============================] - 2s 2ms/step - loss: -56003966009344.0000 - accuracy: 0.7123\n",
            "Epoch 81/100\n",
            "768/768 [==============================] - 2s 2ms/step - loss: -56404257800192.0000 - accuracy: 0.7123\n",
            "Epoch 82/100\n",
            "768/768 [==============================] - 2s 2ms/step - loss: -56805958877184.0000 - accuracy: 0.7123\n",
            "Epoch 83/100\n",
            "768/768 [==============================] - 2s 2ms/step - loss: -57209153126400.0000 - accuracy: 0.7123\n",
            "Epoch 84/100\n",
            "768/768 [==============================] - 2s 2ms/step - loss: -57613920239616.0000 - accuracy: 0.7123\n",
            "Epoch 85/100\n",
            "768/768 [==============================] - 2s 2ms/step - loss: -58021770166272.0000 - accuracy: 0.7123\n",
            "Epoch 86/100\n",
            "768/768 [==============================] - 2s 2ms/step - loss: -58432342196224.0000 - accuracy: 0.7123\n",
            "Epoch 87/100\n",
            "768/768 [==============================] - 2s 2ms/step - loss: -58844403204096.0000 - accuracy: 0.7123\n",
            "Epoch 88/100\n",
            "768/768 [==============================] - 2s 2ms/step - loss: -59260025176064.0000 - accuracy: 0.7123\n",
            "Epoch 89/100\n",
            "768/768 [==============================] - 2s 2ms/step - loss: -59677601693696.0000 - accuracy: 0.7123\n",
            "Epoch 90/100\n",
            "768/768 [==============================] - 2s 2ms/step - loss: -60096788824064.0000 - accuracy: 0.7123\n",
            "Epoch 91/100\n",
            "768/768 [==============================] - 2s 2ms/step - loss: -60517771116544.0000 - accuracy: 0.7123\n",
            "Epoch 92/100\n",
            "768/768 [==============================] - 2s 2ms/step - loss: -60941131579392.0000 - accuracy: 0.7123\n",
            "Epoch 93/100\n",
            "768/768 [==============================] - 2s 2ms/step - loss: -61366220095488.0000 - accuracy: 0.7123\n",
            "Epoch 94/100\n",
            "768/768 [==============================] - 2s 2ms/step - loss: -61793913274368.0000 - accuracy: 0.7123\n",
            "Epoch 95/100\n",
            "768/768 [==============================] - 2s 2ms/step - loss: -62224496328704.0000 - accuracy: 0.7123\n",
            "Epoch 96/100\n",
            "768/768 [==============================] - 2s 2ms/step - loss: -62656836796416.0000 - accuracy: 0.7123\n",
            "Epoch 97/100\n",
            "768/768 [==============================] - 2s 2ms/step - loss: -63090850791424.0000 - accuracy: 0.7123\n",
            "Epoch 98/100\n",
            "768/768 [==============================] - 2s 2ms/step - loss: -63528794849280.0000 - accuracy: 0.7123\n",
            "Epoch 99/100\n",
            "768/768 [==============================] - 1s 2ms/step - loss: -63968181747712.0000 - accuracy: 0.7123\n",
            "Epoch 100/100\n",
            "768/768 [==============================] - 2s 2ms/step - loss: -64409401556992.0000 - accuracy: 0.7123\n"
          ]
        }
      ]
    },
    {
      "cell_type": "code",
      "source": [
        "history_dict = history.history\n",
        "print(history_dict.keys())"
      ],
      "metadata": {
        "colab": {
          "base_uri": "https://localhost:8080/"
        },
        "id": "REuxYqsHCG7b",
        "outputId": "43c00b37-222b-490d-e740-14fe3d9233d3"
      },
      "execution_count": 82,
      "outputs": [
        {
          "output_type": "stream",
          "name": "stdout",
          "text": [
            "dict_keys(['loss', 'accuracy'])\n"
          ]
        }
      ]
    },
    {
      "cell_type": "code",
      "source": [
        "plt.plot(history.history['accuracy'])\n",
        "plt.title('model accuracy')\n",
        "plt.ylabel('accuracy')\n",
        "plt.xlabel('epoch')\n",
        "plt.legend(['train', 'test'], loc='upper left')\n",
        "plt.show()"
      ],
      "metadata": {
        "colab": {
          "base_uri": "https://localhost:8080/",
          "height": 295
        },
        "id": "n0f18ZPu_yra",
        "outputId": "60102c4a-ef7b-464f-8514-2d2acecff8fe"
      },
      "execution_count": 84,
      "outputs": [
        {
          "output_type": "display_data",
          "data": {
            "image/png": "[encoded data removed]",
            "text/plain": [
              "<Figure size 432x288 with 1 Axes>"
            ]
          },
          "metadata": {
            "needs_background": "light"
          }
        }
      ]
    },
    {
      "cell_type": "code",
      "source": [
        "plt.plot(history.history['loss'])\n",
        "plt.title('model loss')\n",
        "plt.ylabel('loss')\n",
        "plt.xlabel('epoch')\n",
        "plt.legend(['train', 'test'], loc='upper left')\n",
        "plt.show()"
      ],
      "metadata": {
        "colab": {
          "base_uri": "https://localhost:8080/",
          "height": 295
        },
        "id": "TCNyItVcrz6E",
        "outputId": "d22b88bf-2bb6-45fb-e42d-adaa23c60ad9"
      },
      "execution_count": 86,
      "outputs": [
        {
          "output_type": "display_data",
          "data": {
            "image/png": "[encoded data removed]",
            "text/plain": [
              "<Figure size 432x288 with 1 Axes>"
            ]
          },
          "metadata": {
            "needs_background": "light"
          }
        }
      ]
    },
    {
      "cell_type": "code",
      "source": [
        "y_pred = classifier.predict(X_test)\n",
        "y_pred = [ 1 if y>=0.5 else 0 for y in y_pred ]"
      ],
      "metadata": {
        "id": "JMtbhllms6As"
      },
      "execution_count": 89,
      "outputs": []
    },
    {
      "cell_type": "code",
      "source": [
        "print(classification_report(y_test, y_pred))"
      ],
      "metadata": {
        "colab": {
          "base_uri": "https://localhost:8080/"
        },
        "id": "AyMJzilys8t4",
        "outputId": "facb5ca7-0b55-4a8c-d026-eedc05c35484"
      },
      "execution_count": 90,
      "outputs": [
        {
          "output_type": "stream",
          "name": "stdout",
          "text": [
            "              precision    recall  f1-score   support\n",
            "\n",
            "           1       0.72      1.00      0.84      4429\n",
            "           2       0.00      0.00      0.00      1710\n",
            "\n",
            "    accuracy                           0.72      6139\n",
            "   macro avg       0.36      0.50      0.42      6139\n",
            "weighted avg       0.52      0.72      0.60      6139\n",
            "\n"
          ]
        },
        {
          "output_type": "stream",
          "name": "stderr",
          "text": [
            "/usr/local/lib/python3.7/dist-packages/sklearn/metrics/_classification.py:1318: UndefinedMetricWarning: Precision and F-score are ill-defined and being set to 0.0 in labels with no predicted samples. Use `zero_division` parameter to control this behavior.\n",
            "  _warn_prf(average, modifier, msg_start, len(result))\n",
            "/usr/local/lib/python3.7/dist-packages/sklearn/metrics/_classification.py:1318: UndefinedMetricWarning: Precision and F-score are ill-defined and being set to 0.0 in labels with no predicted samples. Use `zero_division` parameter to control this behavior.\n",
            "  _warn_prf(average, modifier, msg_start, len(result))\n",
            "/usr/local/lib/python3.7/dist-packages/sklearn/metrics/_classification.py:1318: UndefinedMetricWarning: Precision and F-score are ill-defined and being set to 0.0 in labels with no predicted samples. Use `zero_division` parameter to control this behavior.\n",
            "  _warn_prf(average, modifier, msg_start, len(result))\n"
          ]
        }
      ]
    },
    {
      "cell_type": "code",
      "source": [
        "plt.figure(figsize=(10,7))\n",
        "\n",
        "\n",
        "\n",
        "skplt.metrics.plot_confusion_matrix(y_test, y_pred, normalize=False)"
      ],
      "metadata": {
        "colab": {
          "base_uri": "https://localhost:8080/",
          "height": 330
        },
        "id": "jH3l9ikVs_C6",
        "outputId": "23a8a68a-20ce-4388-c87c-4ac7f7d5c65f"
      },
      "execution_count": 101,
      "outputs": [
        {
          "output_type": "execute_result",
          "data": {
            "text/plain": [
              "<matplotlib.axes._subplots.AxesSubplot at 0x7f72522e89d0>"
            ]
          },
          "metadata": {},
          "execution_count": 101
        },
        {
          "output_type": "display_data",
          "data": {
            "text/plain": [
              "<Figure size 720x504 with 0 Axes>"
            ]
          },
          "metadata": {}
        },
        {
          "output_type": "display_data",
          "data": {
            "image/png": "[encoded data removed]",
            "text/plain": [
              "<Figure size 432x288 with 2 Axes>"
            ]
          },
          "metadata": {}
        }
      ]
    },
    {
      "cell_type": "code",
      "source": [
        ""
      ],
      "metadata": {
        "id": "znCsv3anECS1"
      },
      "execution_count": null,
      "outputs": []
    }
  ]
}